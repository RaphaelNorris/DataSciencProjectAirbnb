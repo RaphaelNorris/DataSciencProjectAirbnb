{
  "nbformat": 4,
  "nbformat_minor": 0,
  "metadata": {
    "colab": {
      "name": "Airbnb-Cambridge.ipynb",
      "provenance": [],
      "collapsed_sections": [],
      "include_colab_link": true
    },
    "kernelspec": {
      "name": "python3",
      "display_name": "Python 3"
    }
  },
  "cells": [
    {
      "cell_type": "markdown",
      "metadata": {
        "id": "view-in-github",
        "colab_type": "text"
      },
      "source": [
        "<a href=\"https://colab.research.google.com/github/RaphaelNorris/DataSciencProjectAirbnb/blob/main/Airbnb_Cambridge.ipynb\" target=\"_parent\"><img src=\"https://colab.research.google.com/assets/colab-badge.svg\" alt=\"Open In Colab\"/></a>"
      ]
    },
    {
      "cell_type": "markdown",
      "metadata": {
        "id": "kLI0gJtzDGuQ"
      },
      "source": [
        "\n",
        "\n",
        "#### **Data Science Project**\n",
        "*by [Raphael Norris](https://www.linkedin.com/in/raphael-norris-703a5a143/)*\n",
        "\n",
        "---\n",
        "\n",
        "# Análise dos Dados do Airbnb - *Cambridge*\n",
        "\n",
        "O [Airbnb](https://www.airbnb.com.br/) já é considerado como sendo a **maior empresa hoteleira da atualidade**. Ah, o detalhe é que ele **não possui nenhum hotel**!\n",
        "\n",
        "Conectando pessoas que querem viajar (e se hospedar) com anfitriões que querem alugar seus imóveis de maneira prática, o Airbnb fornece uma plataforma inovadora para tornar essa hospedagem alternativa.\n",
        "\n",
        "No final de 2018, a Startup fundada 10 anos atrás, já havia **hospedado mais de 300 milhões** de pessoas ao redor de todo o mundo, desafiando as redes hoteleiras tradicionais.\n",
        "\n",
        "Uma das iniciativas do Airbnb é disponibilizar dados do site, para algumas das principais cidades do mundo. Por meio do portal [Inside Airbnb](http://insideairbnb.com/get-the-data.html), é possível baixar uma grande quantidade de dados para desenvolver projetos e soluções de *Data Science*.\n",
        "\n",
        "<center><img alt=\"Analisando Airbnb\" width=\"10%\" src=\"https://www.area360.com.au/wp-content/uploads/2017/09/airbnb-logo.jpg\"></center>\n",
        "\n",
        "\n",
        "\n"
      ]
    },
    {
      "cell_type": "markdown",
      "source": [
        " **Neste *notebook*, iremos analisar os dados referentes à cidade, e ver quais insights podem ser extraídos a partir de dados brutos.**\n",
        "\n",
        "\n",
        "---\n",
        "<center><img alt=\"Analisando Airbnb\" width=\"90%\" src=https://www.adventurouskate.com/wp-content/uploads/2021/09/Things-to-Do-in-Cambridge-Massachusetts-1024x680.jpg\"></center>\n",
        "\n",
        "\n",
        "---\n",
        "\n",
        "**Antes de começar a análise exploratória de nossos dados, é imprescindível conhecer um pouco sobre Cambridge. \n",
        "Cambridge é uma cidade localizada em Massachusetts, Estados Unidos. Conhecida por abranger as melhores universidades do mundo, destacando a *Universidade de Harvard* e o *MIT (Instituto de Tecnologia de Massachusetts)*. Uma curiosidade em relação a Cambridge e suas universidades de noteriedade mundial é que peelo menos 258 dos 962 ganhadores do Prêmio Nobel do mundo, em algum momento de suas carreiras, foram afiliados a universidades em Cambridge. \n",
        "Por isso, Cambridge é conhecida como cidade acadêmica. Outra característica evidente é que praticamente todo o bairro contém pelo menos uma praça pública, para lazer e cultura de todos os residentes.** "
      ],
      "metadata": {
        "id": "xUbjmOn_VHrJ"
      }
    },
    {
      "cell_type": "markdown",
      "metadata": {
        "id": "0zxQHhIUDF_2"
      },
      "source": [
        "## Obtenção dos Dados\n"
      ]
    },
    {
      "cell_type": "code",
      "metadata": {
        "id": "Vhp2wMPgJ6zX"
      },
      "source": [
        "# importar os pacotes necessarios\n",
        "import pandas as pd\n",
        "import matplotlib.pyplot as plt\n",
        "import seaborn as sns\n",
        "import numpy as np\n",
        "sns.set()\n",
        "\n",
        "from collections import Counter\n",
        "\n",
        "%matplotlib inline"
      ],
      "execution_count": null,
      "outputs": []
    },
    {
      "cell_type": "code",
      "metadata": {
        "id": "tUmoAT8DLQ5T",
        "outputId": "6d319a44-339c-4b50-d8a1-64a9e8fb5e07",
        "colab": {
          "base_uri": "https://localhost:8080/",
          "height": 426
        }
      },
      "source": [
        "# importar o arquivo listings.csv para um DataFrame\n",
        "df = pd.read_csv(\"http://data.insideairbnb.com/united-states/ma/cambridge/2021-12-25/visualisations/listings.csv\", sep=',')\n",
        "\n",
        "df.head()\n"
      ],
      "execution_count": null,
      "outputs": [
        {
          "output_type": "execute_result",
          "data": {
            "text/plain": [
              "      id                                              name  host_id  \\\n",
              "0   8521  SunsplashedSerenity walk to Harvard & Fresh Pond   306681   \n",
              "1  11169   Lovely Studio Room: Available for up to 14 days    40965   \n",
              "2  11945                  Near Harvard: Safe & Lovely Room    40965   \n",
              "3  19581                          Furnished suite, Windsor    74249   \n",
              "4  26531            CENTRAL LOCATION IN HEART OF CAMBRIDGE    87398   \n",
              "\n",
              "        host_name  neighbourhood_group    neighbourhood  latitude  longitude  \\\n",
              "0           Janet                  NaN   West Cambridge  42.38258  -71.13646   \n",
              "1            Judy                  NaN  North Cambridge  42.39630  -71.13135   \n",
              "2            Judy                  NaN  North Cambridge  42.39416  -71.13232   \n",
              "3  Marc And Patty                  NaN         The Port  42.36258  -71.09603   \n",
              "4             Ari                  NaN    Mid-Cambridge  42.37132  -71.11420   \n",
              "\n",
              "         room_type  price  minimum_nights  number_of_reviews last_review  \\\n",
              "0  Entire home/apt    250               2                 45  2021-08-29   \n",
              "1     Private room    112               3                152  2021-11-14   \n",
              "2     Private room     82               3                 35  2021-05-20   \n",
              "3     Private room    171              10                  8  2021-09-11   \n",
              "4  Entire home/apt    200              91                  4  2018-11-04   \n",
              "\n",
              "   reviews_per_month  calculated_host_listings_count  availability_365  \\\n",
              "0               0.30                               2               228   \n",
              "1               1.06                               3               348   \n",
              "2               0.24                               3               363   \n",
              "3               0.06                               3               332   \n",
              "4               0.03                               2               365   \n",
              "\n",
              "   number_of_reviews_ltm      license  \n",
              "0                      9  C0121120491  \n",
              "1                      7          NaN  \n",
              "2                      1          NaN  \n",
              "3                      2          NaN  \n",
              "4                      0          NaN  "
            ],
            "text/html": [
              "\n",
              "  <div id=\"df-9ae71aac-52aa-4cca-addf-86ae797cb33a\">\n",
              "    <div class=\"colab-df-container\">\n",
              "      <div>\n",
              "<style scoped>\n",
              "    .dataframe tbody tr th:only-of-type {\n",
              "        vertical-align: middle;\n",
              "    }\n",
              "\n",
              "    .dataframe tbody tr th {\n",
              "        vertical-align: top;\n",
              "    }\n",
              "\n",
              "    .dataframe thead th {\n",
              "        text-align: right;\n",
              "    }\n",
              "</style>\n",
              "<table border=\"1\" class=\"dataframe\">\n",
              "  <thead>\n",
              "    <tr style=\"text-align: right;\">\n",
              "      <th></th>\n",
              "      <th>id</th>\n",
              "      <th>name</th>\n",
              "      <th>host_id</th>\n",
              "      <th>host_name</th>\n",
              "      <th>neighbourhood_group</th>\n",
              "      <th>neighbourhood</th>\n",
              "      <th>latitude</th>\n",
              "      <th>longitude</th>\n",
              "      <th>room_type</th>\n",
              "      <th>price</th>\n",
              "      <th>minimum_nights</th>\n",
              "      <th>number_of_reviews</th>\n",
              "      <th>last_review</th>\n",
              "      <th>reviews_per_month</th>\n",
              "      <th>calculated_host_listings_count</th>\n",
              "      <th>availability_365</th>\n",
              "      <th>number_of_reviews_ltm</th>\n",
              "      <th>license</th>\n",
              "    </tr>\n",
              "  </thead>\n",
              "  <tbody>\n",
              "    <tr>\n",
              "      <th>0</th>\n",
              "      <td>8521</td>\n",
              "      <td>SunsplashedSerenity walk to Harvard &amp; Fresh Pond</td>\n",
              "      <td>306681</td>\n",
              "      <td>Janet</td>\n",
              "      <td>NaN</td>\n",
              "      <td>West Cambridge</td>\n",
              "      <td>42.38258</td>\n",
              "      <td>-71.13646</td>\n",
              "      <td>Entire home/apt</td>\n",
              "      <td>250</td>\n",
              "      <td>2</td>\n",
              "      <td>45</td>\n",
              "      <td>2021-08-29</td>\n",
              "      <td>0.30</td>\n",
              "      <td>2</td>\n",
              "      <td>228</td>\n",
              "      <td>9</td>\n",
              "      <td>C0121120491</td>\n",
              "    </tr>\n",
              "    <tr>\n",
              "      <th>1</th>\n",
              "      <td>11169</td>\n",
              "      <td>Lovely Studio Room: Available for up to 14 days</td>\n",
              "      <td>40965</td>\n",
              "      <td>Judy</td>\n",
              "      <td>NaN</td>\n",
              "      <td>North Cambridge</td>\n",
              "      <td>42.39630</td>\n",
              "      <td>-71.13135</td>\n",
              "      <td>Private room</td>\n",
              "      <td>112</td>\n",
              "      <td>3</td>\n",
              "      <td>152</td>\n",
              "      <td>2021-11-14</td>\n",
              "      <td>1.06</td>\n",
              "      <td>3</td>\n",
              "      <td>348</td>\n",
              "      <td>7</td>\n",
              "      <td>NaN</td>\n",
              "    </tr>\n",
              "    <tr>\n",
              "      <th>2</th>\n",
              "      <td>11945</td>\n",
              "      <td>Near Harvard: Safe &amp; Lovely Room</td>\n",
              "      <td>40965</td>\n",
              "      <td>Judy</td>\n",
              "      <td>NaN</td>\n",
              "      <td>North Cambridge</td>\n",
              "      <td>42.39416</td>\n",
              "      <td>-71.13232</td>\n",
              "      <td>Private room</td>\n",
              "      <td>82</td>\n",
              "      <td>3</td>\n",
              "      <td>35</td>\n",
              "      <td>2021-05-20</td>\n",
              "      <td>0.24</td>\n",
              "      <td>3</td>\n",
              "      <td>363</td>\n",
              "      <td>1</td>\n",
              "      <td>NaN</td>\n",
              "    </tr>\n",
              "    <tr>\n",
              "      <th>3</th>\n",
              "      <td>19581</td>\n",
              "      <td>Furnished suite, Windsor</td>\n",
              "      <td>74249</td>\n",
              "      <td>Marc And Patty</td>\n",
              "      <td>NaN</td>\n",
              "      <td>The Port</td>\n",
              "      <td>42.36258</td>\n",
              "      <td>-71.09603</td>\n",
              "      <td>Private room</td>\n",
              "      <td>171</td>\n",
              "      <td>10</td>\n",
              "      <td>8</td>\n",
              "      <td>2021-09-11</td>\n",
              "      <td>0.06</td>\n",
              "      <td>3</td>\n",
              "      <td>332</td>\n",
              "      <td>2</td>\n",
              "      <td>NaN</td>\n",
              "    </tr>\n",
              "    <tr>\n",
              "      <th>4</th>\n",
              "      <td>26531</td>\n",
              "      <td>CENTRAL LOCATION IN HEART OF CAMBRIDGE</td>\n",
              "      <td>87398</td>\n",
              "      <td>Ari</td>\n",
              "      <td>NaN</td>\n",
              "      <td>Mid-Cambridge</td>\n",
              "      <td>42.37132</td>\n",
              "      <td>-71.11420</td>\n",
              "      <td>Entire home/apt</td>\n",
              "      <td>200</td>\n",
              "      <td>91</td>\n",
              "      <td>4</td>\n",
              "      <td>2018-11-04</td>\n",
              "      <td>0.03</td>\n",
              "      <td>2</td>\n",
              "      <td>365</td>\n",
              "      <td>0</td>\n",
              "      <td>NaN</td>\n",
              "    </tr>\n",
              "  </tbody>\n",
              "</table>\n",
              "</div>\n",
              "      <button class=\"colab-df-convert\" onclick=\"convertToInteractive('df-9ae71aac-52aa-4cca-addf-86ae797cb33a')\"\n",
              "              title=\"Convert this dataframe to an interactive table.\"\n",
              "              style=\"display:none;\">\n",
              "        \n",
              "  <svg xmlns=\"http://www.w3.org/2000/svg\" height=\"24px\"viewBox=\"0 0 24 24\"\n",
              "       width=\"24px\">\n",
              "    <path d=\"M0 0h24v24H0V0z\" fill=\"none\"/>\n",
              "    <path d=\"M18.56 5.44l.94 2.06.94-2.06 2.06-.94-2.06-.94-.94-2.06-.94 2.06-2.06.94zm-11 1L8.5 8.5l.94-2.06 2.06-.94-2.06-.94L8.5 2.5l-.94 2.06-2.06.94zm10 10l.94 2.06.94-2.06 2.06-.94-2.06-.94-.94-2.06-.94 2.06-2.06.94z\"/><path d=\"M17.41 7.96l-1.37-1.37c-.4-.4-.92-.59-1.43-.59-.52 0-1.04.2-1.43.59L10.3 9.45l-7.72 7.72c-.78.78-.78 2.05 0 2.83L4 21.41c.39.39.9.59 1.41.59.51 0 1.02-.2 1.41-.59l7.78-7.78 2.81-2.81c.8-.78.8-2.07 0-2.86zM5.41 20L4 18.59l7.72-7.72 1.47 1.35L5.41 20z\"/>\n",
              "  </svg>\n",
              "      </button>\n",
              "      \n",
              "  <style>\n",
              "    .colab-df-container {\n",
              "      display:flex;\n",
              "      flex-wrap:wrap;\n",
              "      gap: 12px;\n",
              "    }\n",
              "\n",
              "    .colab-df-convert {\n",
              "      background-color: #E8F0FE;\n",
              "      border: none;\n",
              "      border-radius: 50%;\n",
              "      cursor: pointer;\n",
              "      display: none;\n",
              "      fill: #1967D2;\n",
              "      height: 32px;\n",
              "      padding: 0 0 0 0;\n",
              "      width: 32px;\n",
              "    }\n",
              "\n",
              "    .colab-df-convert:hover {\n",
              "      background-color: #E2EBFA;\n",
              "      box-shadow: 0px 1px 2px rgba(60, 64, 67, 0.3), 0px 1px 3px 1px rgba(60, 64, 67, 0.15);\n",
              "      fill: #174EA6;\n",
              "    }\n",
              "\n",
              "    [theme=dark] .colab-df-convert {\n",
              "      background-color: #3B4455;\n",
              "      fill: #D2E3FC;\n",
              "    }\n",
              "\n",
              "    [theme=dark] .colab-df-convert:hover {\n",
              "      background-color: #434B5C;\n",
              "      box-shadow: 0px 1px 3px 1px rgba(0, 0, 0, 0.15);\n",
              "      filter: drop-shadow(0px 1px 2px rgba(0, 0, 0, 0.3));\n",
              "      fill: #FFFFFF;\n",
              "    }\n",
              "  </style>\n",
              "\n",
              "      <script>\n",
              "        const buttonEl =\n",
              "          document.querySelector('#df-9ae71aac-52aa-4cca-addf-86ae797cb33a button.colab-df-convert');\n",
              "        buttonEl.style.display =\n",
              "          google.colab.kernel.accessAllowed ? 'block' : 'none';\n",
              "\n",
              "        async function convertToInteractive(key) {\n",
              "          const element = document.querySelector('#df-9ae71aac-52aa-4cca-addf-86ae797cb33a');\n",
              "          const dataTable =\n",
              "            await google.colab.kernel.invokeFunction('convertToInteractive',\n",
              "                                                     [key], {});\n",
              "          if (!dataTable) return;\n",
              "\n",
              "          const docLinkHtml = 'Like what you see? Visit the ' +\n",
              "            '<a target=\"_blank\" href=https://colab.research.google.com/notebooks/data_table.ipynb>data table notebook</a>'\n",
              "            + ' to learn more about interactive tables.';\n",
              "          element.innerHTML = '';\n",
              "          dataTable['output_type'] = 'display_data';\n",
              "          await google.colab.output.renderOutput(dataTable, element);\n",
              "          const docLink = document.createElement('div');\n",
              "          docLink.innerHTML = docLinkHtml;\n",
              "          element.appendChild(docLink);\n",
              "        }\n",
              "      </script>\n",
              "    </div>\n",
              "  </div>\n",
              "  "
            ]
          },
          "metadata": {},
          "execution_count": 2
        }
      ]
    },
    {
      "cell_type": "code",
      "source": [
        "# Visualizando a classe e o volume de dados do nosso Data Frame\n",
        "print('Tipo de dado:', type(df) )\n",
        "print('Dimensão:', df.shape,\n",
        "      '\\nEntradas:', df.shape[0],\n",
        "      '\\nVariáveis:', df.shape[1])"
      ],
      "metadata": {
        "id": "cgpuvJrtu9Mr",
        "outputId": "9101ffa4-690c-419f-8e4f-23e3baa258d8",
        "colab": {
          "base_uri": "https://localhost:8080/"
        }
      },
      "execution_count": null,
      "outputs": [
        {
          "output_type": "stream",
          "name": "stdout",
          "text": [
            "Tipo de dado: <class 'pandas.core.frame.DataFrame'>\n",
            "Dimensão: (813, 18) \n",
            "Entradas: 813 \n",
            "Variáveis: 18\n"
          ]
        }
      ]
    },
    {
      "cell_type": "markdown",
      "metadata": {
        "id": "qb5By2nIMS6m"
      },
      "source": [
        "## Análise dos Dados\n"
      ]
    },
    {
      "cell_type": "markdown",
      "metadata": {
        "id": "RYgvuebKNg8-"
      },
      "source": [
        "**Dicionário das variáveis**\n",
        "\n",
        "* ```id:``` Número de *id* do imóvel.\n",
        "* ```name:```  Título do anúncio.\n",
        "* ```host_id:```  Número de *id* do anfitrião.\n",
        "* ```host_name:``` Nome do anfitrião.\n",
        "* ```neighbourhood_group:``` Oganizações independetes formados por grupos voluntários de determinado bairro.\n",
        "* ```neighbourhood:``` Nome do bairro.\n",
        "* ```latitude:``` Coordenada latitudinal do imóvel. \n",
        "* ```longitude:``` Coordenada longitudinal do imóvel. \n",
        "* ```room_type:```  Informa o tipo de quarto.\n",
        "* ```price:``` Preço por noite para alugar o imóvel.\n",
        "* ```minimum_nights:``` Minímo de noites para efetuar a reserva.\n",
        "* ```number_of_reviews:``` Número de avaliações.\n",
        "* ```last_review:``` Data da última avaliação.\n",
        "* ```reviews_per_month:``` Avaliações por mês.\n",
        "* ```calculeted_host_listings_count:``` Quantidade de imóveis do mesmo anfitrião.\n",
        "* ```avaliability_365:``` Número de dias disponíveis em um ano. \n",
        "* ```number_of_reviews_ltm:``` Número de avaliações nos últimos doze meses (ltm-last twelve months).\n",
        "\n",
        "* ```license:``` Número da licença da Airbnb, exigido por algumas prefeituras.                \n"
      ]
    },
    {
      "cell_type": "markdown",
      "source": [
        "*Nessa análise das variáveis é necessário verificar a compatibilidade lógica com o tipo de cada variável do nosso Data Frame.*"
      ],
      "metadata": {
        "id": "gdBuHdl9GVn7"
      }
    },
    {
      "cell_type": "code",
      "source": [
        "display(df.dtypes)"
      ],
      "metadata": {
        "id": "r4S69yqCfjfx",
        "outputId": "a7152b78-c03f-4814-9fdd-2d6d8740ce6d",
        "colab": {
          "base_uri": "https://localhost:8080/",
          "height": 368
        }
      },
      "execution_count": null,
      "outputs": [
        {
          "output_type": "display_data",
          "data": {
            "text/plain": [
              "id                                  int64\n",
              "name                               object\n",
              "host_id                             int64\n",
              "host_name                          object\n",
              "neighbourhood_group               float64\n",
              "neighbourhood                      object\n",
              "latitude                          float64\n",
              "longitude                         float64\n",
              "room_type                          object\n",
              "price                               int64\n",
              "minimum_nights                      int64\n",
              "number_of_reviews                   int64\n",
              "last_review                        object\n",
              "reviews_per_month                 float64\n",
              "calculated_host_listings_count      int64\n",
              "availability_365                    int64\n",
              "number_of_reviews_ltm               int64\n",
              "license                            object\n",
              "dtype: object"
            ]
          },
          "metadata": {}
        }
      ]
    },
    {
      "cell_type": "markdown",
      "source": [
        "É interessante colocarmos a variável ```price``` em  ```float```, porque assim, consideramos valores decimais para representar os ***cents*** que podem ser decisivo na escolha  mais barata."
      ],
      "metadata": {
        "id": "kmeY-o1eAyzC"
      }
    },
    {
      "cell_type": "code",
      "source": [
        "# Convertendo a variável price de int64 para float\n",
        "df['price']= df['price'].astype('float')\n",
        "\n",
        "print('Tipo variável price:', df['price'].dtype)"
      ],
      "metadata": {
        "colab": {
          "base_uri": "https://localhost:8080/"
        },
        "id": "XejwMwby9fGc",
        "outputId": "0e6bf245-ea5b-4c77-92d3-a88b483b99fb"
      },
      "execution_count": null,
      "outputs": [
        {
          "output_type": "stream",
          "name": "stdout",
          "text": [
            "Tipo variável price: float64\n"
          ]
        }
      ]
    },
    {
      "cell_type": "markdown",
      "source": [
        "# **Limpando os Dados**\n",
        "\n",
        "---\n",
        "\n"
      ],
      "metadata": {
        "id": "EEiSgxifYP86"
      }
    },
    {
      "cell_type": "markdown",
      "source": [
        "Nessa seção, vamos limpar nossos dados para uma melhor análise. Primeiro ponto,\n",
        "é recomendável utilizar o metódo ```info()```  para obter informações das variáveis como valores nulos, uso de memória e assim como o `display()`, tipo das variáveis."
      ],
      "metadata": {
        "id": "zlwvTK1xBvrs"
      }
    },
    {
      "cell_type": "code",
      "source": [
        "df.info()"
      ],
      "metadata": {
        "id": "OiVnvrCvgn8R",
        "outputId": "b2fb1c73-db3e-408c-912c-cc47d6526048",
        "colab": {
          "base_uri": "https://localhost:8080/"
        }
      },
      "execution_count": null,
      "outputs": [
        {
          "output_type": "stream",
          "name": "stdout",
          "text": [
            "<class 'pandas.core.frame.DataFrame'>\n",
            "RangeIndex: 813 entries, 0 to 812\n",
            "Data columns (total 18 columns):\n",
            " #   Column                          Non-Null Count  Dtype  \n",
            "---  ------                          --------------  -----  \n",
            " 0   id                              813 non-null    int64  \n",
            " 1   name                            813 non-null    object \n",
            " 2   host_id                         813 non-null    int64  \n",
            " 3   host_name                       813 non-null    object \n",
            " 4   neighbourhood_group             0 non-null      float64\n",
            " 5   neighbourhood                   813 non-null    object \n",
            " 6   latitude                        813 non-null    float64\n",
            " 7   longitude                       813 non-null    float64\n",
            " 8   room_type                       813 non-null    object \n",
            " 9   price                           813 non-null    float64\n",
            " 10  minimum_nights                  813 non-null    int64  \n",
            " 11  number_of_reviews               813 non-null    int64  \n",
            " 12  last_review                     598 non-null    object \n",
            " 13  reviews_per_month               598 non-null    float64\n",
            " 14  calculated_host_listings_count  813 non-null    int64  \n",
            " 15  availability_365                813 non-null    int64  \n",
            " 16  number_of_reviews_ltm           813 non-null    int64  \n",
            " 17  license                         283 non-null    object \n",
            "dtypes: float64(5), int64(7), object(6)\n",
            "memory usage: 114.5+ KB\n"
          ]
        }
      ]
    },
    {
      "cell_type": "code",
      "source": [
        "# Para imprimir em porcentagem os valores ausentes, é viável\n",
        "# ordenar de maneira decrescente para uma melhor visualização dos dados, assim, \n",
        "# vamos utilizar o método sort_values() com atributo ascending = False.\n",
        "\n",
        "(df.isnull().sum()*100/df.shape[0]).sort_values(ascending=False)"
      ],
      "metadata": {
        "id": "FduG3jXPYLHo",
        "outputId": "b8e417a5-49ac-42ba-ff0b-8b3c8dad0cdd",
        "colab": {
          "base_uri": "https://localhost:8080/"
        }
      },
      "execution_count": null,
      "outputs": [
        {
          "output_type": "execute_result",
          "data": {
            "text/plain": [
              "neighbourhood_group               100.000000\n",
              "license                            65.190652\n",
              "reviews_per_month                  26.445264\n",
              "last_review                        26.445264\n",
              "minimum_nights                      0.000000\n",
              "number_of_reviews_ltm               0.000000\n",
              "availability_365                    0.000000\n",
              "calculated_host_listings_count      0.000000\n",
              "number_of_reviews                   0.000000\n",
              "id                                  0.000000\n",
              "name                                0.000000\n",
              "room_type                           0.000000\n",
              "longitude                           0.000000\n",
              "latitude                            0.000000\n",
              "neighbourhood                       0.000000\n",
              "host_name                           0.000000\n",
              "host_id                             0.000000\n",
              "price                               0.000000\n",
              "dtype: float64"
            ]
          },
          "metadata": {},
          "execution_count": 7
        }
      ]
    },
    {
      "cell_type": "markdown",
      "source": [
        "\n",
        " *  Observando a quantidade de valores ausentes em cada variável, fica fácil notar que a série ```neighbourhood_group``` contém em 100% de suas entradas valores ausentes. Essa variável indica grupos comunitários formados para discussões locais, portanto, não é de preenchimento obrigatório para anfitrião e não afeta de maneira objetiva a escolha de um hóspede, já que o conhecimento da existência desses grupos não é de ciência de todos.\n",
        "\n",
        "\n",
        " \n",
        "* `license` com um pouco mais de 65% de suas linhas com valores ausentes justificáveis por não ser exigidas a todos hosts ao anunciar seu imóvel na Airbnb, ou ainda, o anfitrião iniciou o processo de registro mas não recebeu ainda sua licença. E por fim, o anfitrião pode ser isento de licença por pretextos determinado pelo orgão público responsável. \n",
        "\n",
        "* `reviews_per_month` e `last_review` também merecem atenção, já que 26.5% aproximadamente tem valores ausentes e suas linhas. Ambas estão relacionadas com as avaliações, sendo a primeira a quantidade por mês e a segunda a data da última avaliação. Logo, é possível a ausência de valores, levando em conta a facultatividade da avaliação.\n",
        "Como o número de avaliações potencializa ou desvaloriza a divulgação de um imóvel, e a quantidade de valores ausentes não são excessivos, optei por manter para visualizar a relação com as propriedades disponíveis.\n",
        "\n",
        "\n"
      ],
      "metadata": {
        "id": "mQ87rRobgx4Z"
      }
    },
    {
      "cell_type": "code",
      "source": [
        "# Vamos excluir a coluna neighbourhood_group , já que 100% dos seus valores \n",
        "# são ausentes. Também irei excluir  a variável license, porque ela é indiferen-\n",
        "# te para nossa análise. Até para uma melhor precisão do calculo de medidas\n",
        "# estatísticas.\n",
        "\n",
        "df.drop(columns = ['neighbourhood_group', 'license'],inplace=True)\n"
      ],
      "metadata": {
        "id": "xteb_aeUYK0J"
      },
      "execution_count": null,
      "outputs": []
    },
    {
      "cell_type": "markdown",
      "source": [
        "Nos casos de `reviews_per_month` e `last_review`, vamos completar o NaN com zero."
      ],
      "metadata": {
        "id": "eAoOnE13Xl5u"
      }
    },
    {
      "cell_type": "code",
      "source": [
        "df.fillna(0, inplace = True)"
      ],
      "metadata": {
        "id": "a4VQ3I-EWXgV"
      },
      "execution_count": null,
      "outputs": []
    },
    {
      "cell_type": "code",
      "source": [
        "df.info()"
      ],
      "metadata": {
        "id": "16I2YY9oYmGf",
        "outputId": "59d9f05f-348e-4884-aff4-69d60a6d5d92",
        "colab": {
          "base_uri": "https://localhost:8080/"
        }
      },
      "execution_count": null,
      "outputs": [
        {
          "output_type": "stream",
          "name": "stdout",
          "text": [
            "<class 'pandas.core.frame.DataFrame'>\n",
            "RangeIndex: 813 entries, 0 to 812\n",
            "Data columns (total 16 columns):\n",
            " #   Column                          Non-Null Count  Dtype  \n",
            "---  ------                          --------------  -----  \n",
            " 0   id                              813 non-null    int64  \n",
            " 1   name                            813 non-null    object \n",
            " 2   host_id                         813 non-null    int64  \n",
            " 3   host_name                       813 non-null    object \n",
            " 4   neighbourhood                   813 non-null    object \n",
            " 5   latitude                        813 non-null    float64\n",
            " 6   longitude                       813 non-null    float64\n",
            " 7   room_type                       813 non-null    object \n",
            " 8   price                           813 non-null    float64\n",
            " 9   minimum_nights                  813 non-null    int64  \n",
            " 10  number_of_reviews               813 non-null    int64  \n",
            " 11  last_review                     813 non-null    object \n",
            " 12  reviews_per_month               813 non-null    float64\n",
            " 13  calculated_host_listings_count  813 non-null    int64  \n",
            " 14  availability_365                813 non-null    int64  \n",
            " 15  number_of_reviews_ltm           813 non-null    int64  \n",
            "dtypes: float64(4), int64(7), object(5)\n",
            "memory usage: 101.8+ KB\n"
          ]
        }
      ]
    },
    {
      "cell_type": "code",
      "source": [
        "# Agora, temos nossos dados 'completos' sem valores ausentes,\n",
        "# como mostrado abaixo:\n",
        "df.isnull().sum()"
      ],
      "metadata": {
        "id": "gi0SrpD7YsPO",
        "outputId": "57fdc489-41b3-4650-82a9-14076ffc81f1",
        "colab": {
          "base_uri": "https://localhost:8080/"
        }
      },
      "execution_count": null,
      "outputs": [
        {
          "output_type": "execute_result",
          "data": {
            "text/plain": [
              "id                                0\n",
              "name                              0\n",
              "host_id                           0\n",
              "host_name                         0\n",
              "neighbourhood                     0\n",
              "latitude                          0\n",
              "longitude                         0\n",
              "room_type                         0\n",
              "price                             0\n",
              "minimum_nights                    0\n",
              "number_of_reviews                 0\n",
              "last_review                       0\n",
              "reviews_per_month                 0\n",
              "calculated_host_listings_count    0\n",
              "availability_365                  0\n",
              "number_of_reviews_ltm             0\n",
              "dtype: int64"
            ]
          },
          "metadata": {},
          "execution_count": 11
        }
      ]
    },
    {
      "cell_type": "markdown",
      "source": [
        "Foram excluídos os valores ausentes, com isso, é necessário explanar estatísticas descritivas para uma análise inicial."
      ],
      "metadata": {
        "id": "svh--yX5chCY"
      }
    },
    {
      "cell_type": "code",
      "source": [
        "df.describe().round(2)"
      ],
      "metadata": {
        "colab": {
          "base_uri": "https://localhost:8080/",
          "height": 364
        },
        "id": "xf3cZktZAqrM",
        "outputId": "59b844c7-651a-4e90-82fb-2995663eaa40"
      },
      "execution_count": null,
      "outputs": [
        {
          "output_type": "execute_result",
          "data": {
            "text/plain": [
              "                id       host_id  latitude  longitude    price  \\\n",
              "count       813.00  8.130000e+02    813.00     813.00   813.00   \n",
              "mean   29132434.71  1.070961e+08     42.37     -71.11   176.07   \n",
              "std    17782045.21  1.265789e+08      0.01       0.02   141.80   \n",
              "min        8521.00  2.307800e+04     42.35     -71.16    22.00   \n",
              "25%    13294153.00  1.257623e+07     42.36     -71.12    88.00   \n",
              "50%    29778001.00  4.501130e+07     42.37     -71.11   151.00   \n",
              "75%    46660533.00  1.597288e+08     42.38     -71.10   220.00   \n",
              "max    53938020.00  4.302093e+08     42.40     -71.07  1650.00   \n",
              "\n",
              "       minimum_nights  number_of_reviews  reviews_per_month  \\\n",
              "count          813.00             813.00             813.00   \n",
              "mean            31.42              51.15               1.10   \n",
              "std             37.36              88.88               1.67   \n",
              "min              1.00               0.00               0.00   \n",
              "25%              2.00               0.00               0.00   \n",
              "50%             30.00               8.00               0.33   \n",
              "75%             32.00              62.00               1.61   \n",
              "max            300.00             635.00              14.27   \n",
              "\n",
              "       calculated_host_listings_count  availability_365  number_of_reviews_ltm  \n",
              "count                          813.00            813.00                 813.00  \n",
              "mean                            11.70            191.40                   8.69  \n",
              "std                             18.29            133.46                  16.49  \n",
              "min                              1.00              0.00                   0.00  \n",
              "25%                              1.00             70.00                   0.00  \n",
              "50%                              4.00            203.00                   1.00  \n",
              "75%                             14.00            327.00                   8.00  \n",
              "max                             68.00            365.00                 126.00  "
            ],
            "text/html": [
              "\n",
              "  <div id=\"df-c0766d93-07d1-450f-8812-6a49d7890f0f\">\n",
              "    <div class=\"colab-df-container\">\n",
              "      <div>\n",
              "<style scoped>\n",
              "    .dataframe tbody tr th:only-of-type {\n",
              "        vertical-align: middle;\n",
              "    }\n",
              "\n",
              "    .dataframe tbody tr th {\n",
              "        vertical-align: top;\n",
              "    }\n",
              "\n",
              "    .dataframe thead th {\n",
              "        text-align: right;\n",
              "    }\n",
              "</style>\n",
              "<table border=\"1\" class=\"dataframe\">\n",
              "  <thead>\n",
              "    <tr style=\"text-align: right;\">\n",
              "      <th></th>\n",
              "      <th>id</th>\n",
              "      <th>host_id</th>\n",
              "      <th>latitude</th>\n",
              "      <th>longitude</th>\n",
              "      <th>price</th>\n",
              "      <th>minimum_nights</th>\n",
              "      <th>number_of_reviews</th>\n",
              "      <th>reviews_per_month</th>\n",
              "      <th>calculated_host_listings_count</th>\n",
              "      <th>availability_365</th>\n",
              "      <th>number_of_reviews_ltm</th>\n",
              "    </tr>\n",
              "  </thead>\n",
              "  <tbody>\n",
              "    <tr>\n",
              "      <th>count</th>\n",
              "      <td>813.00</td>\n",
              "      <td>8.130000e+02</td>\n",
              "      <td>813.00</td>\n",
              "      <td>813.00</td>\n",
              "      <td>813.00</td>\n",
              "      <td>813.00</td>\n",
              "      <td>813.00</td>\n",
              "      <td>813.00</td>\n",
              "      <td>813.00</td>\n",
              "      <td>813.00</td>\n",
              "      <td>813.00</td>\n",
              "    </tr>\n",
              "    <tr>\n",
              "      <th>mean</th>\n",
              "      <td>29132434.71</td>\n",
              "      <td>1.070961e+08</td>\n",
              "      <td>42.37</td>\n",
              "      <td>-71.11</td>\n",
              "      <td>176.07</td>\n",
              "      <td>31.42</td>\n",
              "      <td>51.15</td>\n",
              "      <td>1.10</td>\n",
              "      <td>11.70</td>\n",
              "      <td>191.40</td>\n",
              "      <td>8.69</td>\n",
              "    </tr>\n",
              "    <tr>\n",
              "      <th>std</th>\n",
              "      <td>17782045.21</td>\n",
              "      <td>1.265789e+08</td>\n",
              "      <td>0.01</td>\n",
              "      <td>0.02</td>\n",
              "      <td>141.80</td>\n",
              "      <td>37.36</td>\n",
              "      <td>88.88</td>\n",
              "      <td>1.67</td>\n",
              "      <td>18.29</td>\n",
              "      <td>133.46</td>\n",
              "      <td>16.49</td>\n",
              "    </tr>\n",
              "    <tr>\n",
              "      <th>min</th>\n",
              "      <td>8521.00</td>\n",
              "      <td>2.307800e+04</td>\n",
              "      <td>42.35</td>\n",
              "      <td>-71.16</td>\n",
              "      <td>22.00</td>\n",
              "      <td>1.00</td>\n",
              "      <td>0.00</td>\n",
              "      <td>0.00</td>\n",
              "      <td>1.00</td>\n",
              "      <td>0.00</td>\n",
              "      <td>0.00</td>\n",
              "    </tr>\n",
              "    <tr>\n",
              "      <th>25%</th>\n",
              "      <td>13294153.00</td>\n",
              "      <td>1.257623e+07</td>\n",
              "      <td>42.36</td>\n",
              "      <td>-71.12</td>\n",
              "      <td>88.00</td>\n",
              "      <td>2.00</td>\n",
              "      <td>0.00</td>\n",
              "      <td>0.00</td>\n",
              "      <td>1.00</td>\n",
              "      <td>70.00</td>\n",
              "      <td>0.00</td>\n",
              "    </tr>\n",
              "    <tr>\n",
              "      <th>50%</th>\n",
              "      <td>29778001.00</td>\n",
              "      <td>4.501130e+07</td>\n",
              "      <td>42.37</td>\n",
              "      <td>-71.11</td>\n",
              "      <td>151.00</td>\n",
              "      <td>30.00</td>\n",
              "      <td>8.00</td>\n",
              "      <td>0.33</td>\n",
              "      <td>4.00</td>\n",
              "      <td>203.00</td>\n",
              "      <td>1.00</td>\n",
              "    </tr>\n",
              "    <tr>\n",
              "      <th>75%</th>\n",
              "      <td>46660533.00</td>\n",
              "      <td>1.597288e+08</td>\n",
              "      <td>42.38</td>\n",
              "      <td>-71.10</td>\n",
              "      <td>220.00</td>\n",
              "      <td>32.00</td>\n",
              "      <td>62.00</td>\n",
              "      <td>1.61</td>\n",
              "      <td>14.00</td>\n",
              "      <td>327.00</td>\n",
              "      <td>8.00</td>\n",
              "    </tr>\n",
              "    <tr>\n",
              "      <th>max</th>\n",
              "      <td>53938020.00</td>\n",
              "      <td>4.302093e+08</td>\n",
              "      <td>42.40</td>\n",
              "      <td>-71.07</td>\n",
              "      <td>1650.00</td>\n",
              "      <td>300.00</td>\n",
              "      <td>635.00</td>\n",
              "      <td>14.27</td>\n",
              "      <td>68.00</td>\n",
              "      <td>365.00</td>\n",
              "      <td>126.00</td>\n",
              "    </tr>\n",
              "  </tbody>\n",
              "</table>\n",
              "</div>\n",
              "      <button class=\"colab-df-convert\" onclick=\"convertToInteractive('df-c0766d93-07d1-450f-8812-6a49d7890f0f')\"\n",
              "              title=\"Convert this dataframe to an interactive table.\"\n",
              "              style=\"display:none;\">\n",
              "        \n",
              "  <svg xmlns=\"http://www.w3.org/2000/svg\" height=\"24px\"viewBox=\"0 0 24 24\"\n",
              "       width=\"24px\">\n",
              "    <path d=\"M0 0h24v24H0V0z\" fill=\"none\"/>\n",
              "    <path d=\"M18.56 5.44l.94 2.06.94-2.06 2.06-.94-2.06-.94-.94-2.06-.94 2.06-2.06.94zm-11 1L8.5 8.5l.94-2.06 2.06-.94-2.06-.94L8.5 2.5l-.94 2.06-2.06.94zm10 10l.94 2.06.94-2.06 2.06-.94-2.06-.94-.94-2.06-.94 2.06-2.06.94z\"/><path d=\"M17.41 7.96l-1.37-1.37c-.4-.4-.92-.59-1.43-.59-.52 0-1.04.2-1.43.59L10.3 9.45l-7.72 7.72c-.78.78-.78 2.05 0 2.83L4 21.41c.39.39.9.59 1.41.59.51 0 1.02-.2 1.41-.59l7.78-7.78 2.81-2.81c.8-.78.8-2.07 0-2.86zM5.41 20L4 18.59l7.72-7.72 1.47 1.35L5.41 20z\"/>\n",
              "  </svg>\n",
              "      </button>\n",
              "      \n",
              "  <style>\n",
              "    .colab-df-container {\n",
              "      display:flex;\n",
              "      flex-wrap:wrap;\n",
              "      gap: 12px;\n",
              "    }\n",
              "\n",
              "    .colab-df-convert {\n",
              "      background-color: #E8F0FE;\n",
              "      border: none;\n",
              "      border-radius: 50%;\n",
              "      cursor: pointer;\n",
              "      display: none;\n",
              "      fill: #1967D2;\n",
              "      height: 32px;\n",
              "      padding: 0 0 0 0;\n",
              "      width: 32px;\n",
              "    }\n",
              "\n",
              "    .colab-df-convert:hover {\n",
              "      background-color: #E2EBFA;\n",
              "      box-shadow: 0px 1px 2px rgba(60, 64, 67, 0.3), 0px 1px 3px 1px rgba(60, 64, 67, 0.15);\n",
              "      fill: #174EA6;\n",
              "    }\n",
              "\n",
              "    [theme=dark] .colab-df-convert {\n",
              "      background-color: #3B4455;\n",
              "      fill: #D2E3FC;\n",
              "    }\n",
              "\n",
              "    [theme=dark] .colab-df-convert:hover {\n",
              "      background-color: #434B5C;\n",
              "      box-shadow: 0px 1px 3px 1px rgba(0, 0, 0, 0.15);\n",
              "      filter: drop-shadow(0px 1px 2px rgba(0, 0, 0, 0.3));\n",
              "      fill: #FFFFFF;\n",
              "    }\n",
              "  </style>\n",
              "\n",
              "      <script>\n",
              "        const buttonEl =\n",
              "          document.querySelector('#df-c0766d93-07d1-450f-8812-6a49d7890f0f button.colab-df-convert');\n",
              "        buttonEl.style.display =\n",
              "          google.colab.kernel.accessAllowed ? 'block' : 'none';\n",
              "\n",
              "        async function convertToInteractive(key) {\n",
              "          const element = document.querySelector('#df-c0766d93-07d1-450f-8812-6a49d7890f0f');\n",
              "          const dataTable =\n",
              "            await google.colab.kernel.invokeFunction('convertToInteractive',\n",
              "                                                     [key], {});\n",
              "          if (!dataTable) return;\n",
              "\n",
              "          const docLinkHtml = 'Like what you see? Visit the ' +\n",
              "            '<a target=\"_blank\" href=https://colab.research.google.com/notebooks/data_table.ipynb>data table notebook</a>'\n",
              "            + ' to learn more about interactive tables.';\n",
              "          element.innerHTML = '';\n",
              "          dataTable['output_type'] = 'display_data';\n",
              "          await google.colab.output.renderOutput(dataTable, element);\n",
              "          const docLink = document.createElement('div');\n",
              "          docLink.innerHTML = docLinkHtml;\n",
              "          element.appendChild(docLink);\n",
              "        }\n",
              "      </script>\n",
              "    </div>\n",
              "  </div>\n",
              "  "
            ]
          },
          "metadata": {},
          "execution_count": 12
        }
      ]
    },
    {
      "cell_type": "markdown",
      "source": [
        "Observa-se a disparidade entre o terceiro quartil com a máxima de `price` e `minimum_nights`. São saltos que merecem atenção, dependendo da frequência desses valores extremos.\n",
        "\n",
        "Outras variáveis também apresentam diferenças consideráveis entre os quartis, portanto, devemos levar em conta o senso comum e buscar explicações para esse valores. Por exemplo, ` number_of_reviews`, trata-se da quantidade avaliações que uma propriedade possui. Portanto, isso pode variar em relação ao tempo na plataforma, quantidade de hóspedes por mês/ano. Ou seja, depende de outros fenômenos para uma análise e conclusão concisa. E ainda, nosso objetivo é analisar os preços dos bairros e tipos de imóveis em Cambridge.\n",
        "\n",
        "Para uma análise razoável, é preferível dados expostos visualmente. Então, será apresentado histograma de cada série.\n",
        "\n",
        "\n",
        "\n"
      ],
      "metadata": {
        "id": "bC9sQy6Nc7lR"
      }
    },
    {
      "cell_type": "markdown",
      "source": [
        "# Analisando oss histogramas e suas distribuições"
      ],
      "metadata": {
        "id": "cxToroh6GnXo"
      }
    },
    {
      "cell_type": "code",
      "source": [
        "df.hist(bins=10, figsize=(30,25), grid= False)"
      ],
      "metadata": {
        "colab": {
          "base_uri": "https://localhost:8080/",
          "height": 1000
        },
        "id": "O4wzKUbPGmkl",
        "outputId": "490e7fb5-d511-47d8-c2ba-621b9f6ab80a"
      },
      "execution_count": null,
      "outputs": [
        {
          "output_type": "execute_result",
          "data": {
            "text/plain": [
              "array([[<matplotlib.axes._subplots.AxesSubplot object at 0x7f803adfd050>,\n",
              "        <matplotlib.axes._subplots.AxesSubplot object at 0x7f803acef0d0>,\n",
              "        <matplotlib.axes._subplots.AxesSubplot object at 0x7f803aca8690>],\n",
              "       [<matplotlib.axes._subplots.AxesSubplot object at 0x7f803ad2f990>,\n",
              "        <matplotlib.axes._subplots.AxesSubplot object at 0x7f803ac10cd0>,\n",
              "        <matplotlib.axes._subplots.AxesSubplot object at 0x7f803abd3310>],\n",
              "       [<matplotlib.axes._subplots.AxesSubplot object at 0x7f803ac09990>,\n",
              "        <matplotlib.axes._subplots.AxesSubplot object at 0x7f803abbfed0>,\n",
              "        <matplotlib.axes._subplots.AxesSubplot object at 0x7f803abbff10>],\n",
              "       [<matplotlib.axes._subplots.AxesSubplot object at 0x7f803ab84650>,\n",
              "        <matplotlib.axes._subplots.AxesSubplot object at 0x7f803aafd190>,\n",
              "        <matplotlib.axes._subplots.AxesSubplot object at 0x7f803aab1790>]],\n",
              "      dtype=object)"
            ]
          },
          "metadata": {},
          "execution_count": 13
        },
        {
          "output_type": "display_data",
          "data": {
            "text/plain": [
              "<Figure size 2160x1800 with 12 Axes>"
            ],
            "image/png": "[encoded data removed]"
          },
          "metadata": {
            "needs_background": "light"
          }
        }
      ]
    },
    {
      "cell_type": "markdown",
      "source": [
        "Como foi abordado anteriormente, serão examinados para fins analíticos o histograma de ` price ` e `minimum_nights`.\n",
        "\n",
        "\n",
        "\n",
        "\n",
        "\n"
      ],
      "metadata": {
        "id": "cZxRDWjF0cOJ"
      }
    },
    {
      "cell_type": "markdown",
      "source": [
        "# Análise e Limpeza - `Price`"
      ],
      "metadata": {
        "id": "J0LcSmXIo13F"
      }
    },
    {
      "cell_type": "code",
      "source": [
        "df.price.hist(bins=15, figsize=(15,5), grid= False);"
      ],
      "metadata": {
        "colab": {
          "base_uri": "https://localhost:8080/",
          "height": 322
        },
        "id": "Wqp4SPsUwhII",
        "outputId": "679f34e1-63e7-44b8-ad6c-648419cca43f"
      },
      "execution_count": null,
      "outputs": [
        {
          "output_type": "display_data",
          "data": {
            "text/plain": [
              "<Figure size 1080x360 with 1 Axes>"
            ],
            "image/png": "[encoded data removed]"
          },
          "metadata": {
            "needs_background": "light"
          }
        }
      ]
    },
    {
      "cell_type": "markdown",
      "source": [
        "As informações contidas nesse histograma pode ser interpretada em **box plot**. O Boxplot descreve características dos nossos conjuntos de dados mais resistentes a erros de observações e valores atípicos. Sendo essas características:\n",
        "\n",
        "\n",
        "*   Posição central que é dada pela `mediana`;\n",
        "*   Medida de `disperção` entre o quarto superior e inferior;\n",
        "*   `Assimetria` pela posição relativa dos quartis;\n",
        "*   Identificação de `outliers` e `valores atípicos`.\n",
        "\n",
        "\n"
      ],
      "metadata": {
        "id": "zuczUo29jLGm"
      }
    },
    {
      "cell_type": "code",
      "source": [
        "# Primeiro e Terceiro quartil-price\n",
        "q1_price=df.price.quantile(.25)\n",
        "q3_price=df.price.quantile(.75)\n",
        "IQR_price = q3_price-q1_price\n",
        "\n",
        "\n",
        "#Limite superior e inferior-price\n",
        "sup_price= q3_price + 1.5*IQR_price\n",
        "inf_price= q1_price - 1.5*IQR_price\n",
        "print('IQR da variável price:', IQR_price)\n",
        "print('Limite superior:', sup_price)\n",
        "print('Limite inferior:', inf_price)\n"
      ],
      "metadata": {
        "colab": {
          "base_uri": "https://localhost:8080/"
        },
        "id": "KR_UimhUwhFg",
        "outputId": "e4d40a5e-f3fa-4cb1-f203-78ce1268f875"
      },
      "execution_count": null,
      "outputs": [
        {
          "output_type": "stream",
          "name": "stdout",
          "text": [
            "IQR da variável price: 132.0\n",
            "Limite superior: 418.0\n",
            "Limite inferior: -110.0\n"
          ]
        }
      ]
    },
    {
      "cell_type": "markdown",
      "source": [
        "### ***Plotando nosso diagrama***-`Price`"
      ],
      "metadata": {
        "id": "8CesIZNCm2nd"
      }
    },
    {
      "cell_type": "code",
      "source": [
        "fig, ax = plt.subplots(figsize=(25,3))\n",
        "df.price.plot(kind='box', vert= False );\n",
        "ax.set_title(\"Dataset Original - price\")\n",
        "plt.show()\n",
        "\n",
        "print('O Dataset possui {} colunas'.format(df.shape[0]))\n",
        "print('{} Entradas acima de 418.0'.format(len(df[df.price>418])))\n",
        "print('Representam {:.2f}% do dataset'.format((len(df[df.price>418.0])/df.shape[0])*100))\n"
      ],
      "metadata": {
        "colab": {
          "base_uri": "https://localhost:8080/",
          "height": 277
        },
        "id": "t93y03CEwhC4",
        "outputId": "52397bb4-4f9a-4c1d-bbe1-8ca6b17b95a1"
      },
      "execution_count": null,
      "outputs": [
        {
          "output_type": "display_data",
          "data": {
            "text/plain": [
              "<Figure size 1800x216 with 1 Axes>"
            ],
            "image/png": "[encoded data removed]"
          },
          "metadata": {
            "needs_background": "light"
          }
        },
        {
          "output_type": "stream",
          "name": "stdout",
          "text": [
            "O Dataset possui 813 colunas\n",
            "33 Entradas acima de 418.0\n",
            "Representam 4.06% do dataset\n"
          ]
        }
      ]
    },
    {
      "cell_type": "markdown",
      "source": [
        "Ora, no caso da variável `price`, temos valores fora do limite superior e inferior. Já que trata-se de valores reais de uma diária, não seria ideal considerarmos como outiliers mas sim valores exteriores.\n",
        "\n",
        "*Lembre-se que outiliers é dado por um erro de observação ou arredondamento.*\n",
        "\n",
        "\n",
        "Outro ponto que merece destaque é que não temos preços de diárias negativas e iguais a zero, ou seja, a definição de outiliers vale para os preços < ou = a 0.\n"
      ],
      "metadata": {
        "id": "SKyv19ePAEqy"
      }
    },
    {
      "cell_type": "code",
      "source": [
        "#limpando o dataset de valores exteriores e outiliers\n",
        "\n",
        "df_clean = df.copy()\n",
        "\n",
        "df_clean.drop(df_clean[df_clean.price > 418.0].index, axis = 0, inplace = True)\n",
        "\n",
        "df_clean.drop(df_clean[df_clean.price == 0.0].index, axis = 0, inplace= True)\n",
        "\n",
        "print('Shape antes da limpeza: ', df.shape)\n",
        "print('Shape depois da limpeza: ', df_clean.shape)\n"
      ],
      "metadata": {
        "colab": {
          "base_uri": "https://localhost:8080/"
        },
        "id": "e6vyuJvvwg_5",
        "outputId": "bad2d501-96b0-4388-e2b2-4829651b39b6"
      },
      "execution_count": null,
      "outputs": [
        {
          "output_type": "stream",
          "name": "stdout",
          "text": [
            "Shape antes da limpeza:  (813, 16)\n",
            "Shape depois da limpeza:  (780, 16)\n"
          ]
        }
      ]
    },
    {
      "cell_type": "code",
      "source": [
        "fig, ax = plt.subplots(figsize=(25,3))\n",
        "df_clean.price.plot(kind= 'box', vert = False)\n",
        "ax.set_title(\"Dataset limpo - price\")\n",
        "plt.show()\n",
        "\n",
        "print('O Dataset Original possui {} colunas'.format(df.shape[0]))\n",
        "\n",
        "print('O Dataset limpo possui {} colunas'.format(df_clean.shape[0]))\n",
        "\n",
        "print('Foram limpos {} colunas'.format(df.shape[0] - df_clean.shape[0]))\n",
        "\n"
      ],
      "metadata": {
        "colab": {
          "base_uri": "https://localhost:8080/",
          "height": 277
        },
        "id": "yuWbyCh2wg3Z",
        "outputId": "68340fad-0f26-4c50-a147-cfeb4bb75609"
      },
      "execution_count": null,
      "outputs": [
        {
          "output_type": "display_data",
          "data": {
            "text/plain": [
              "<Figure size 1800x216 with 1 Axes>"
            ],
            "image/png": "[encoded data removed]"
          },
          "metadata": {
            "needs_background": "light"
          }
        },
        {
          "output_type": "stream",
          "name": "stdout",
          "text": [
            "O Dataset Original possui 813 colunas\n",
            "O Dataset limpo possui 780 colunas\n",
            "Foram limpos 33 colunas\n"
          ]
        }
      ]
    },
    {
      "cell_type": "code",
      "source": [
        "df_clean.describe().round(2)"
      ],
      "metadata": {
        "colab": {
          "base_uri": "https://localhost:8080/",
          "height": 364
        },
        "id": "7Dj_m_OGXTE0",
        "outputId": "5ff86de1-9ca5-4495-d735-0db9bb9643e6"
      },
      "execution_count": null,
      "outputs": [
        {
          "output_type": "execute_result",
          "data": {
            "text/plain": [
              "                id       host_id  latitude  longitude   price  minimum_nights  \\\n",
              "count       780.00  7.800000e+02    780.00     780.00  780.00          780.00   \n",
              "mean   29406961.17  1.085099e+08     42.37     -71.11  154.56           31.11   \n",
              "std    17876030.92  1.283736e+08      0.01       0.02   83.59           37.38   \n",
              "min        8521.00  2.307800e+04     42.35     -71.16   22.00            1.00   \n",
              "25%    13174040.75  1.257623e+07     42.36     -71.12   85.00            2.00   \n",
              "50%    30389911.50  4.501130e+07     42.37     -71.11  147.00           30.00   \n",
              "75%    46777988.25  1.627054e+08     42.38     -71.10  207.00           32.00   \n",
              "max    53938020.00  4.302093e+08     42.40     -71.07  405.00          300.00   \n",
              "\n",
              "       number_of_reviews  reviews_per_month  calculated_host_listings_count  \\\n",
              "count             780.00             780.00                          780.00   \n",
              "mean               52.21               1.14                           12.02   \n",
              "std                89.81               1.69                           18.59   \n",
              "min                 0.00               0.00                            1.00   \n",
              "25%                 0.00               0.00                            1.00   \n",
              "50%                 8.00               0.36                            4.00   \n",
              "75%                63.25               1.66                           14.00   \n",
              "max               635.00              14.27                           68.00   \n",
              "\n",
              "       availability_365  number_of_reviews_ltm  \n",
              "count            780.00                 780.00  \n",
              "mean             190.26                   8.89  \n",
              "std              132.98                  16.68  \n",
              "min                0.00                   0.00  \n",
              "25%               69.75                   0.00  \n",
              "50%              202.50                   1.00  \n",
              "75%              326.00                   8.00  \n",
              "max              365.00                 126.00  "
            ],
            "text/html": [
              "\n",
              "  <div id=\"df-50a71308-9c5f-44b8-ad7b-d3ab8b870518\">\n",
              "    <div class=\"colab-df-container\">\n",
              "      <div>\n",
              "<style scoped>\n",
              "    .dataframe tbody tr th:only-of-type {\n",
              "        vertical-align: middle;\n",
              "    }\n",
              "\n",
              "    .dataframe tbody tr th {\n",
              "        vertical-align: top;\n",
              "    }\n",
              "\n",
              "    .dataframe thead th {\n",
              "        text-align: right;\n",
              "    }\n",
              "</style>\n",
              "<table border=\"1\" class=\"dataframe\">\n",
              "  <thead>\n",
              "    <tr style=\"text-align: right;\">\n",
              "      <th></th>\n",
              "      <th>id</th>\n",
              "      <th>host_id</th>\n",
              "      <th>latitude</th>\n",
              "      <th>longitude</th>\n",
              "      <th>price</th>\n",
              "      <th>minimum_nights</th>\n",
              "      <th>number_of_reviews</th>\n",
              "      <th>reviews_per_month</th>\n",
              "      <th>calculated_host_listings_count</th>\n",
              "      <th>availability_365</th>\n",
              "      <th>number_of_reviews_ltm</th>\n",
              "    </tr>\n",
              "  </thead>\n",
              "  <tbody>\n",
              "    <tr>\n",
              "      <th>count</th>\n",
              "      <td>780.00</td>\n",
              "      <td>7.800000e+02</td>\n",
              "      <td>780.00</td>\n",
              "      <td>780.00</td>\n",
              "      <td>780.00</td>\n",
              "      <td>780.00</td>\n",
              "      <td>780.00</td>\n",
              "      <td>780.00</td>\n",
              "      <td>780.00</td>\n",
              "      <td>780.00</td>\n",
              "      <td>780.00</td>\n",
              "    </tr>\n",
              "    <tr>\n",
              "      <th>mean</th>\n",
              "      <td>29406961.17</td>\n",
              "      <td>1.085099e+08</td>\n",
              "      <td>42.37</td>\n",
              "      <td>-71.11</td>\n",
              "      <td>154.56</td>\n",
              "      <td>31.11</td>\n",
              "      <td>52.21</td>\n",
              "      <td>1.14</td>\n",
              "      <td>12.02</td>\n",
              "      <td>190.26</td>\n",
              "      <td>8.89</td>\n",
              "    </tr>\n",
              "    <tr>\n",
              "      <th>std</th>\n",
              "      <td>17876030.92</td>\n",
              "      <td>1.283736e+08</td>\n",
              "      <td>0.01</td>\n",
              "      <td>0.02</td>\n",
              "      <td>83.59</td>\n",
              "      <td>37.38</td>\n",
              "      <td>89.81</td>\n",
              "      <td>1.69</td>\n",
              "      <td>18.59</td>\n",
              "      <td>132.98</td>\n",
              "      <td>16.68</td>\n",
              "    </tr>\n",
              "    <tr>\n",
              "      <th>min</th>\n",
              "      <td>8521.00</td>\n",
              "      <td>2.307800e+04</td>\n",
              "      <td>42.35</td>\n",
              "      <td>-71.16</td>\n",
              "      <td>22.00</td>\n",
              "      <td>1.00</td>\n",
              "      <td>0.00</td>\n",
              "      <td>0.00</td>\n",
              "      <td>1.00</td>\n",
              "      <td>0.00</td>\n",
              "      <td>0.00</td>\n",
              "    </tr>\n",
              "    <tr>\n",
              "      <th>25%</th>\n",
              "      <td>13174040.75</td>\n",
              "      <td>1.257623e+07</td>\n",
              "      <td>42.36</td>\n",
              "      <td>-71.12</td>\n",
              "      <td>85.00</td>\n",
              "      <td>2.00</td>\n",
              "      <td>0.00</td>\n",
              "      <td>0.00</td>\n",
              "      <td>1.00</td>\n",
              "      <td>69.75</td>\n",
              "      <td>0.00</td>\n",
              "    </tr>\n",
              "    <tr>\n",
              "      <th>50%</th>\n",
              "      <td>30389911.50</td>\n",
              "      <td>4.501130e+07</td>\n",
              "      <td>42.37</td>\n",
              "      <td>-71.11</td>\n",
              "      <td>147.00</td>\n",
              "      <td>30.00</td>\n",
              "      <td>8.00</td>\n",
              "      <td>0.36</td>\n",
              "      <td>4.00</td>\n",
              "      <td>202.50</td>\n",
              "      <td>1.00</td>\n",
              "    </tr>\n",
              "    <tr>\n",
              "      <th>75%</th>\n",
              "      <td>46777988.25</td>\n",
              "      <td>1.627054e+08</td>\n",
              "      <td>42.38</td>\n",
              "      <td>-71.10</td>\n",
              "      <td>207.00</td>\n",
              "      <td>32.00</td>\n",
              "      <td>63.25</td>\n",
              "      <td>1.66</td>\n",
              "      <td>14.00</td>\n",
              "      <td>326.00</td>\n",
              "      <td>8.00</td>\n",
              "    </tr>\n",
              "    <tr>\n",
              "      <th>max</th>\n",
              "      <td>53938020.00</td>\n",
              "      <td>4.302093e+08</td>\n",
              "      <td>42.40</td>\n",
              "      <td>-71.07</td>\n",
              "      <td>405.00</td>\n",
              "      <td>300.00</td>\n",
              "      <td>635.00</td>\n",
              "      <td>14.27</td>\n",
              "      <td>68.00</td>\n",
              "      <td>365.00</td>\n",
              "      <td>126.00</td>\n",
              "    </tr>\n",
              "  </tbody>\n",
              "</table>\n",
              "</div>\n",
              "      <button class=\"colab-df-convert\" onclick=\"convertToInteractive('df-50a71308-9c5f-44b8-ad7b-d3ab8b870518')\"\n",
              "              title=\"Convert this dataframe to an interactive table.\"\n",
              "              style=\"display:none;\">\n",
              "        \n",
              "  <svg xmlns=\"http://www.w3.org/2000/svg\" height=\"24px\"viewBox=\"0 0 24 24\"\n",
              "       width=\"24px\">\n",
              "    <path d=\"M0 0h24v24H0V0z\" fill=\"none\"/>\n",
              "    <path d=\"M18.56 5.44l.94 2.06.94-2.06 2.06-.94-2.06-.94-.94-2.06-.94 2.06-2.06.94zm-11 1L8.5 8.5l.94-2.06 2.06-.94-2.06-.94L8.5 2.5l-.94 2.06-2.06.94zm10 10l.94 2.06.94-2.06 2.06-.94-2.06-.94-.94-2.06-.94 2.06-2.06.94z\"/><path d=\"M17.41 7.96l-1.37-1.37c-.4-.4-.92-.59-1.43-.59-.52 0-1.04.2-1.43.59L10.3 9.45l-7.72 7.72c-.78.78-.78 2.05 0 2.83L4 21.41c.39.39.9.59 1.41.59.51 0 1.02-.2 1.41-.59l7.78-7.78 2.81-2.81c.8-.78.8-2.07 0-2.86zM5.41 20L4 18.59l7.72-7.72 1.47 1.35L5.41 20z\"/>\n",
              "  </svg>\n",
              "      </button>\n",
              "      \n",
              "  <style>\n",
              "    .colab-df-container {\n",
              "      display:flex;\n",
              "      flex-wrap:wrap;\n",
              "      gap: 12px;\n",
              "    }\n",
              "\n",
              "    .colab-df-convert {\n",
              "      background-color: #E8F0FE;\n",
              "      border: none;\n",
              "      border-radius: 50%;\n",
              "      cursor: pointer;\n",
              "      display: none;\n",
              "      fill: #1967D2;\n",
              "      height: 32px;\n",
              "      padding: 0 0 0 0;\n",
              "      width: 32px;\n",
              "    }\n",
              "\n",
              "    .colab-df-convert:hover {\n",
              "      background-color: #E2EBFA;\n",
              "      box-shadow: 0px 1px 2px rgba(60, 64, 67, 0.3), 0px 1px 3px 1px rgba(60, 64, 67, 0.15);\n",
              "      fill: #174EA6;\n",
              "    }\n",
              "\n",
              "    [theme=dark] .colab-df-convert {\n",
              "      background-color: #3B4455;\n",
              "      fill: #D2E3FC;\n",
              "    }\n",
              "\n",
              "    [theme=dark] .colab-df-convert:hover {\n",
              "      background-color: #434B5C;\n",
              "      box-shadow: 0px 1px 3px 1px rgba(0, 0, 0, 0.15);\n",
              "      filter: drop-shadow(0px 1px 2px rgba(0, 0, 0, 0.3));\n",
              "      fill: #FFFFFF;\n",
              "    }\n",
              "  </style>\n",
              "\n",
              "      <script>\n",
              "        const buttonEl =\n",
              "          document.querySelector('#df-50a71308-9c5f-44b8-ad7b-d3ab8b870518 button.colab-df-convert');\n",
              "        buttonEl.style.display =\n",
              "          google.colab.kernel.accessAllowed ? 'block' : 'none';\n",
              "\n",
              "        async function convertToInteractive(key) {\n",
              "          const element = document.querySelector('#df-50a71308-9c5f-44b8-ad7b-d3ab8b870518');\n",
              "          const dataTable =\n",
              "            await google.colab.kernel.invokeFunction('convertToInteractive',\n",
              "                                                     [key], {});\n",
              "          if (!dataTable) return;\n",
              "\n",
              "          const docLinkHtml = 'Like what you see? Visit the ' +\n",
              "            '<a target=\"_blank\" href=https://colab.research.google.com/notebooks/data_table.ipynb>data table notebook</a>'\n",
              "            + ' to learn more about interactive tables.';\n",
              "          element.innerHTML = '';\n",
              "          dataTable['output_type'] = 'display_data';\n",
              "          await google.colab.output.renderOutput(dataTable, element);\n",
              "          const docLink = document.createElement('div');\n",
              "          docLink.innerHTML = docLinkHtml;\n",
              "          element.appendChild(docLink);\n",
              "        }\n",
              "      </script>\n",
              "    </div>\n",
              "  </div>\n",
              "  "
            ]
          },
          "metadata": {},
          "execution_count": 19
        }
      ]
    },
    {
      "cell_type": "code",
      "metadata": {
        "id": "ff-8gUahLk-C",
        "colab": {
          "base_uri": "https://localhost:8080/"
        },
        "outputId": "4ce65d88-fe11-4d49-8c23-b57a5ec59cf3"
      },
      "source": [
        "# ver a média da coluna `price``\n",
        "print('Valor da média da coluna price:',df_clean.price.mean())"
      ],
      "execution_count": null,
      "outputs": [
        {
          "output_type": "stream",
          "name": "stdout",
          "text": [
            "Valor da média da coluna price: 160.24451410658307\n"
          ]
        }
      ]
    },
    {
      "cell_type": "markdown",
      "source": [
        "# Análise e limpeza - `Minimum_Nights`\n",
        "\n",
        "\n"
      ],
      "metadata": {
        "id": "27901_7EWk8q"
      }
    },
    {
      "cell_type": "code",
      "source": [
        "df.minimum_nights.hist(bins=15, figsize=(15,10), grid=False )"
      ],
      "metadata": {
        "colab": {
          "base_uri": "https://localhost:8080/",
          "height": 612
        },
        "id": "tS2RY_MwSIqK",
        "outputId": "bdf8529e-bb68-4d4e-f30f-a171847ad549"
      },
      "execution_count": null,
      "outputs": [
        {
          "output_type": "execute_result",
          "data": {
            "text/plain": [
              "<matplotlib.axes._subplots.AxesSubplot at 0x7f8038900f50>"
            ]
          },
          "metadata": {},
          "execution_count": 20
        },
        {
          "output_type": "display_data",
          "data": {
            "text/plain": [
              "<Figure size 1080x720 with 1 Axes>"
            ],
            "image/png": "[encoded data removed]"
          },
          "metadata": {
            "needs_background": "light"
          }
        }
      ]
    },
    {
      "cell_type": "markdown",
      "source": [
        "Pelo Histograma conseguimos visualizar que há valores atípicos em nossos dados."
      ],
      "metadata": {
        "id": "eSyekVpWXww8"
      }
    },
    {
      "cell_type": "code",
      "source": [
        "q1_minimumnights=df.minimum_nights.quantile(.25)\n",
        "q3_minimumnights=df.minimum_nights.quantile(.75)\n",
        "IQR_minimumnights = q3_minimumnights-q1_minimumnights\n",
        "\n",
        "\n",
        "#Limite superior e inferior\n",
        "sup_minimumnights= q3_minimumnights + 1.5*IQR_minimumnights\n",
        "inf_minimumnights= q1_minimumnights - 1.5*IQR_minimumnights\n",
        "print('IQR da variável minimum_nights:', IQR_minimumnights)\n",
        "print('Limite superior:', sup_minimumnights)\n",
        "print('Limite inferior:', inf_minimumnights)\n"
      ],
      "metadata": {
        "colab": {
          "base_uri": "https://localhost:8080/"
        },
        "outputId": "85988377-9406-4f68-d5b9-4d8f8ec205fc",
        "id": "iYtgGDBeXCCd"
      },
      "execution_count": null,
      "outputs": [
        {
          "output_type": "stream",
          "name": "stdout",
          "text": [
            "IQR da variável minimum_nights: 30.0\n",
            "Limite superior: 77.0\n",
            "Limite inferior: -43.0\n"
          ]
        }
      ]
    },
    {
      "cell_type": "code",
      "source": [
        "fig, ax = plt.subplots(figsize=(25,3))\n",
        "df.minimum_nights.plot(kind='box', vert= False );\n",
        "ax.set_title(\"Dataset Original - minimum_nights\")\n",
        "plt.show()\n",
        "\n",
        "print('O Dataset possui {} colunas'.format(df.shape[0]))\n",
        "print('{} Entradas acima de 77.0'.format(len(df[df.minimum_nights > 77.0])))\n",
        "print('Representam {:.2f}% do dataset'.format((len(df[df.minimum_nights > 77.0])/df.shape[0])*100))"
      ],
      "metadata": {
        "colab": {
          "base_uri": "https://localhost:8080/",
          "height": 268
        },
        "id": "yXHfqgSLXvj9",
        "outputId": "0ae9d919-d692-47eb-86e2-2a86ad35147a"
      },
      "execution_count": null,
      "outputs": [
        {
          "output_type": "display_data",
          "data": {
            "text/plain": [
              "<Figure size 1800x216 with 1 Axes>"
            ],
            "image/png": "[encoded data removed]"
          },
          "metadata": {
            "needs_background": "light"
          }
        },
        {
          "output_type": "stream",
          "name": "stdout",
          "text": [
            "O Dataset possui 813 colunas\n",
            "152 Entradas acima de 77.0\n",
            "Representam 18.70% do dataset\n"
          ]
        }
      ]
    },
    {
      "cell_type": "markdown",
      "source": [
        "Dessa forma, 18.70% de entradas atípicas, é uma parcela anormal de nossos dados. Porém, precisamos utilizar o bom senso que o minímo de noites maiores que 77 são observações as quais fogem da realidade de uma plataforma com o propósito em oferecer hospedagem para viajantes. \n"
      ],
      "metadata": {
        "id": "yuaBBGHhYm48"
      }
    },
    {
      "cell_type": "code",
      "source": [
        "# Excluindo valores extremos da série minimum_nights\n",
        "\n",
        "df_clean.drop(df_clean[df_clean.minimum_nights > 77.0].index, axis = 0, inplace = True)\n",
        "\n",
        "df_clean.drop(df_clean[df_clean.minimum_nights == 0.0].index, axis = 0, inplace= True)\n",
        "\n",
        "print('Shape antes da limpeza: ', df.shape)\n",
        "print('Shape depois da limpeza: ', df_clean.shape)\n"
      ],
      "metadata": {
        "colab": {
          "base_uri": "https://localhost:8080/"
        },
        "id": "WtPV8oZ6W3pL",
        "outputId": "566e6ebd-751b-4684-fbde-4ce7bbdcc4b6"
      },
      "execution_count": null,
      "outputs": [
        {
          "output_type": "stream",
          "name": "stdout",
          "text": [
            "Shape antes da limpeza:  (813, 16)\n",
            "Shape depois da limpeza:  (638, 16)\n"
          ]
        }
      ]
    },
    {
      "cell_type": "code",
      "source": [
        "fig, ax = plt.subplots(figsize=(25,3))\n",
        "df_clean.minimum_nights.plot(kind= 'box', vert =False)\n",
        "ax.set_title(\"Dataset limpo - minimum_nights\")\n",
        "plt.show()\n",
        "\n",
        "print('O Dataset Original possui {} colunas'.format(df.shape[0]))\n",
        "print('O Dataset limpo possui {} colunas'.format(df_clean.shape[0]))\n",
        "print('Foram limpos {} colunas'.format(df.shape[0] - df_clean.shape[0]))"
      ],
      "metadata": {
        "colab": {
          "base_uri": "https://localhost:8080/",
          "height": 268
        },
        "id": "irw57zApbWii",
        "outputId": "ce96b4c8-945e-460b-c421-61b1e218911d"
      },
      "execution_count": null,
      "outputs": [
        {
          "output_type": "display_data",
          "data": {
            "text/plain": [
              "<Figure size 1800x216 with 1 Axes>"
            ],
            "image/png": "[encoded data removed]"
          },
          "metadata": {
            "needs_background": "light"
          }
        },
        {
          "output_type": "stream",
          "name": "stdout",
          "text": [
            "O Dataset Original possui 813 colunas\n",
            "O Dataset limpo possui 638 colunas\n",
            "Foram limpos 175 colunas\n"
          ]
        }
      ]
    },
    {
      "cell_type": "code",
      "source": [
        "df_clean.describe().round(2)"
      ],
      "metadata": {
        "id": "hWpDEHd4Aqen",
        "colab": {
          "base_uri": "https://localhost:8080/",
          "height": 364
        },
        "outputId": "d7c2a16b-e636-4042-a05f-a85fb2d9e1ab"
      },
      "execution_count": null,
      "outputs": [
        {
          "output_type": "execute_result",
          "data": {
            "text/plain": [
              "                id       host_id  latitude  longitude   price  minimum_nights  \\\n",
              "count       638.00  6.380000e+02    638.00     638.00  638.00          638.00   \n",
              "mean   29095380.76  1.005813e+08     42.37     -71.11  160.24           16.03   \n",
              "std    17943938.98  1.215497e+08      0.01       0.02   84.59           16.02   \n",
              "min        8521.00  4.096500e+04     42.35     -71.16   22.00            1.00   \n",
              "25%    13092235.75  1.257623e+07     42.36     -71.12   90.00            2.00   \n",
              "50%    30058481.00  4.501130e+07     42.37     -71.11  155.00            7.00   \n",
              "75%    46828100.75  1.128680e+08     42.38     -71.10  217.00           30.00   \n",
              "max    53938020.00  4.302093e+08     42.40     -71.07  405.00           75.00   \n",
              "\n",
              "       number_of_reviews  reviews_per_month  calculated_host_listings_count  \\\n",
              "count             638.00             638.00                          638.00   \n",
              "mean               62.08               1.36                           13.32   \n",
              "std                96.12               1.79                           20.05   \n",
              "min                 0.00               0.00                            1.00   \n",
              "25%                 1.00               0.08                            2.00   \n",
              "50%                14.50               0.62                            4.00   \n",
              "75%                86.00               2.08                           15.00   \n",
              "max               635.00              14.27                           68.00   \n",
              "\n",
              "       availability_365  number_of_reviews_ltm  \n",
              "count            638.00                 638.00  \n",
              "mean             180.08                  10.84  \n",
              "std              130.86                  17.87  \n",
              "min                0.00                   0.00  \n",
              "25%               50.00                   0.00  \n",
              "50%              181.00                   2.00  \n",
              "75%              310.00                  16.00  \n",
              "max              365.00                 126.00  "
            ],
            "text/html": [
              "\n",
              "  <div id=\"df-82fe8672-0c7c-4817-97e9-f0daf472c95a\">\n",
              "    <div class=\"colab-df-container\">\n",
              "      <div>\n",
              "<style scoped>\n",
              "    .dataframe tbody tr th:only-of-type {\n",
              "        vertical-align: middle;\n",
              "    }\n",
              "\n",
              "    .dataframe tbody tr th {\n",
              "        vertical-align: top;\n",
              "    }\n",
              "\n",
              "    .dataframe thead th {\n",
              "        text-align: right;\n",
              "    }\n",
              "</style>\n",
              "<table border=\"1\" class=\"dataframe\">\n",
              "  <thead>\n",
              "    <tr style=\"text-align: right;\">\n",
              "      <th></th>\n",
              "      <th>id</th>\n",
              "      <th>host_id</th>\n",
              "      <th>latitude</th>\n",
              "      <th>longitude</th>\n",
              "      <th>price</th>\n",
              "      <th>minimum_nights</th>\n",
              "      <th>number_of_reviews</th>\n",
              "      <th>reviews_per_month</th>\n",
              "      <th>calculated_host_listings_count</th>\n",
              "      <th>availability_365</th>\n",
              "      <th>number_of_reviews_ltm</th>\n",
              "    </tr>\n",
              "  </thead>\n",
              "  <tbody>\n",
              "    <tr>\n",
              "      <th>count</th>\n",
              "      <td>638.00</td>\n",
              "      <td>6.380000e+02</td>\n",
              "      <td>638.00</td>\n",
              "      <td>638.00</td>\n",
              "      <td>638.00</td>\n",
              "      <td>638.00</td>\n",
              "      <td>638.00</td>\n",
              "      <td>638.00</td>\n",
              "      <td>638.00</td>\n",
              "      <td>638.00</td>\n",
              "      <td>638.00</td>\n",
              "    </tr>\n",
              "    <tr>\n",
              "      <th>mean</th>\n",
              "      <td>29095380.76</td>\n",
              "      <td>1.005813e+08</td>\n",
              "      <td>42.37</td>\n",
              "      <td>-71.11</td>\n",
              "      <td>160.24</td>\n",
              "      <td>16.03</td>\n",
              "      <td>62.08</td>\n",
              "      <td>1.36</td>\n",
              "      <td>13.32</td>\n",
              "      <td>180.08</td>\n",
              "      <td>10.84</td>\n",
              "    </tr>\n",
              "    <tr>\n",
              "      <th>std</th>\n",
              "      <td>17943938.98</td>\n",
              "      <td>1.215497e+08</td>\n",
              "      <td>0.01</td>\n",
              "      <td>0.02</td>\n",
              "      <td>84.59</td>\n",
              "      <td>16.02</td>\n",
              "      <td>96.12</td>\n",
              "      <td>1.79</td>\n",
              "      <td>20.05</td>\n",
              "      <td>130.86</td>\n",
              "      <td>17.87</td>\n",
              "    </tr>\n",
              "    <tr>\n",
              "      <th>min</th>\n",
              "      <td>8521.00</td>\n",
              "      <td>4.096500e+04</td>\n",
              "      <td>42.35</td>\n",
              "      <td>-71.16</td>\n",
              "      <td>22.00</td>\n",
              "      <td>1.00</td>\n",
              "      <td>0.00</td>\n",
              "      <td>0.00</td>\n",
              "      <td>1.00</td>\n",
              "      <td>0.00</td>\n",
              "      <td>0.00</td>\n",
              "    </tr>\n",
              "    <tr>\n",
              "      <th>25%</th>\n",
              "      <td>13092235.75</td>\n",
              "      <td>1.257623e+07</td>\n",
              "      <td>42.36</td>\n",
              "      <td>-71.12</td>\n",
              "      <td>90.00</td>\n",
              "      <td>2.00</td>\n",
              "      <td>1.00</td>\n",
              "      <td>0.08</td>\n",
              "      <td>2.00</td>\n",
              "      <td>50.00</td>\n",
              "      <td>0.00</td>\n",
              "    </tr>\n",
              "    <tr>\n",
              "      <th>50%</th>\n",
              "      <td>30058481.00</td>\n",
              "      <td>4.501130e+07</td>\n",
              "      <td>42.37</td>\n",
              "      <td>-71.11</td>\n",
              "      <td>155.00</td>\n",
              "      <td>7.00</td>\n",
              "      <td>14.50</td>\n",
              "      <td>0.62</td>\n",
              "      <td>4.00</td>\n",
              "      <td>181.00</td>\n",
              "      <td>2.00</td>\n",
              "    </tr>\n",
              "    <tr>\n",
              "      <th>75%</th>\n",
              "      <td>46828100.75</td>\n",
              "      <td>1.128680e+08</td>\n",
              "      <td>42.38</td>\n",
              "      <td>-71.10</td>\n",
              "      <td>217.00</td>\n",
              "      <td>30.00</td>\n",
              "      <td>86.00</td>\n",
              "      <td>2.08</td>\n",
              "      <td>15.00</td>\n",
              "      <td>310.00</td>\n",
              "      <td>16.00</td>\n",
              "    </tr>\n",
              "    <tr>\n",
              "      <th>max</th>\n",
              "      <td>53938020.00</td>\n",
              "      <td>4.302093e+08</td>\n",
              "      <td>42.40</td>\n",
              "      <td>-71.07</td>\n",
              "      <td>405.00</td>\n",
              "      <td>75.00</td>\n",
              "      <td>635.00</td>\n",
              "      <td>14.27</td>\n",
              "      <td>68.00</td>\n",
              "      <td>365.00</td>\n",
              "      <td>126.00</td>\n",
              "    </tr>\n",
              "  </tbody>\n",
              "</table>\n",
              "</div>\n",
              "      <button class=\"colab-df-convert\" onclick=\"convertToInteractive('df-82fe8672-0c7c-4817-97e9-f0daf472c95a')\"\n",
              "              title=\"Convert this dataframe to an interactive table.\"\n",
              "              style=\"display:none;\">\n",
              "        \n",
              "  <svg xmlns=\"http://www.w3.org/2000/svg\" height=\"24px\"viewBox=\"0 0 24 24\"\n",
              "       width=\"24px\">\n",
              "    <path d=\"M0 0h24v24H0V0z\" fill=\"none\"/>\n",
              "    <path d=\"M18.56 5.44l.94 2.06.94-2.06 2.06-.94-2.06-.94-.94-2.06-.94 2.06-2.06.94zm-11 1L8.5 8.5l.94-2.06 2.06-.94-2.06-.94L8.5 2.5l-.94 2.06-2.06.94zm10 10l.94 2.06.94-2.06 2.06-.94-2.06-.94-.94-2.06-.94 2.06-2.06.94z\"/><path d=\"M17.41 7.96l-1.37-1.37c-.4-.4-.92-.59-1.43-.59-.52 0-1.04.2-1.43.59L10.3 9.45l-7.72 7.72c-.78.78-.78 2.05 0 2.83L4 21.41c.39.39.9.59 1.41.59.51 0 1.02-.2 1.41-.59l7.78-7.78 2.81-2.81c.8-.78.8-2.07 0-2.86zM5.41 20L4 18.59l7.72-7.72 1.47 1.35L5.41 20z\"/>\n",
              "  </svg>\n",
              "      </button>\n",
              "      \n",
              "  <style>\n",
              "    .colab-df-container {\n",
              "      display:flex;\n",
              "      flex-wrap:wrap;\n",
              "      gap: 12px;\n",
              "    }\n",
              "\n",
              "    .colab-df-convert {\n",
              "      background-color: #E8F0FE;\n",
              "      border: none;\n",
              "      border-radius: 50%;\n",
              "      cursor: pointer;\n",
              "      display: none;\n",
              "      fill: #1967D2;\n",
              "      height: 32px;\n",
              "      padding: 0 0 0 0;\n",
              "      width: 32px;\n",
              "    }\n",
              "\n",
              "    .colab-df-convert:hover {\n",
              "      background-color: #E2EBFA;\n",
              "      box-shadow: 0px 1px 2px rgba(60, 64, 67, 0.3), 0px 1px 3px 1px rgba(60, 64, 67, 0.15);\n",
              "      fill: #174EA6;\n",
              "    }\n",
              "\n",
              "    [theme=dark] .colab-df-convert {\n",
              "      background-color: #3B4455;\n",
              "      fill: #D2E3FC;\n",
              "    }\n",
              "\n",
              "    [theme=dark] .colab-df-convert:hover {\n",
              "      background-color: #434B5C;\n",
              "      box-shadow: 0px 1px 3px 1px rgba(0, 0, 0, 0.15);\n",
              "      filter: drop-shadow(0px 1px 2px rgba(0, 0, 0, 0.3));\n",
              "      fill: #FFFFFF;\n",
              "    }\n",
              "  </style>\n",
              "\n",
              "      <script>\n",
              "        const buttonEl =\n",
              "          document.querySelector('#df-82fe8672-0c7c-4817-97e9-f0daf472c95a button.colab-df-convert');\n",
              "        buttonEl.style.display =\n",
              "          google.colab.kernel.accessAllowed ? 'block' : 'none';\n",
              "\n",
              "        async function convertToInteractive(key) {\n",
              "          const element = document.querySelector('#df-82fe8672-0c7c-4817-97e9-f0daf472c95a');\n",
              "          const dataTable =\n",
              "            await google.colab.kernel.invokeFunction('convertToInteractive',\n",
              "                                                     [key], {});\n",
              "          if (!dataTable) return;\n",
              "\n",
              "          const docLinkHtml = 'Like what you see? Visit the ' +\n",
              "            '<a target=\"_blank\" href=https://colab.research.google.com/notebooks/data_table.ipynb>data table notebook</a>'\n",
              "            + ' to learn more about interactive tables.';\n",
              "          element.innerHTML = '';\n",
              "          dataTable['output_type'] = 'display_data';\n",
              "          await google.colab.output.renderOutput(dataTable, element);\n",
              "          const docLink = document.createElement('div');\n",
              "          docLink.innerHTML = docLinkHtml;\n",
              "          element.appendChild(docLink);\n",
              "        }\n",
              "      </script>\n",
              "    </div>\n",
              "  </div>\n",
              "  "
            ]
          },
          "metadata": {},
          "execution_count": 25
        }
      ]
    },
    {
      "cell_type": "code",
      "metadata": {
        "colab": {
          "base_uri": "https://localhost:8080/"
        },
        "outputId": "58cd4155-7a20-4d5f-a573-c9f4da6819a4",
        "id": "UNA8fN6qSoqi"
      },
      "source": [
        "# ver a média da coluna minimum_nights\n",
        "print('Valor da média da coluna minimum_nights:',df_clean.minimum_nights.mean())"
      ],
      "execution_count": null,
      "outputs": [
        {
          "output_type": "stream",
          "name": "stdout",
          "text": [
            "Valor da média da coluna minimum_nights: 16.03291536050157\n"
          ]
        }
      ]
    },
    {
      "cell_type": "markdown",
      "source": [
        "Com os dados livres de erros de observações, é interessante verificar a relação entre as variáveis do nosso dataset. Com esse propósito, a biblioteca `seaborn` proporciona o uso do mapa de correlação de calor, denominado de `heatmap`.Esse modelo de mapa consiste por meio da cor e do coeficiente de correlação, expor o quanto uma variável afeta a outra.\n",
        "Para fins de consistência de dados, criar uma matriz de correlação com intuito de obter informações análiticas e trabalhar concomitamente com os gráficos de calor, potencializa a analogia de dados.\n"
      ],
      "metadata": {
        "id": "89axCZ7VffTx"
      }
    },
    {
      "cell_type": "code",
      "metadata": {
        "id": "x2ayzBajqxyd",
        "colab": {
          "base_uri": "https://localhost:8080/",
          "height": 269
        },
        "outputId": "8d1783c9-debb-4f40-8a41-3b26a7ae9798"
      },
      "source": [
        "# criar uma matriz de correlação\n",
        "correlação = df_clean[['price', 'minimum_nights', 'number_of_reviews', \n",
        "                       'reviews_per_month', 'calculated_host_listings_count', \n",
        "                       'availability_365','number_of_reviews_ltm' ]].corr()\n",
        "\n",
        "display(correlação)\n"
      ],
      "execution_count": null,
      "outputs": [
        {
          "output_type": "display_data",
          "data": {
            "text/plain": [
              "                                   price  minimum_nights  number_of_reviews  \\\n",
              "price                           1.000000        0.143292          -0.145773   \n",
              "minimum_nights                  0.143292        1.000000          -0.368676   \n",
              "number_of_reviews              -0.145773       -0.368676           1.000000   \n",
              "reviews_per_month              -0.247901       -0.441106           0.696877   \n",
              "calculated_host_listings_count  0.255785        0.358689          -0.312525   \n",
              "availability_365               -0.030826        0.265224          -0.050640   \n",
              "number_of_reviews_ltm          -0.235881       -0.475132           0.622844   \n",
              "\n",
              "                                reviews_per_month  \\\n",
              "price                                   -0.247901   \n",
              "minimum_nights                          -0.441106   \n",
              "number_of_reviews                        0.696877   \n",
              "reviews_per_month                        1.000000   \n",
              "calculated_host_listings_count          -0.335499   \n",
              "availability_365                        -0.099253   \n",
              "number_of_reviews_ltm                    0.794347   \n",
              "\n",
              "                                calculated_host_listings_count  \\\n",
              "price                                                 0.255785   \n",
              "minimum_nights                                        0.358689   \n",
              "number_of_reviews                                    -0.312525   \n",
              "reviews_per_month                                    -0.335499   \n",
              "calculated_host_listings_count                        1.000000   \n",
              "availability_365                                      0.200949   \n",
              "number_of_reviews_ltm                                -0.280567   \n",
              "\n",
              "                                availability_365  number_of_reviews_ltm  \n",
              "price                                  -0.030826              -0.235881  \n",
              "minimum_nights                          0.265224              -0.475132  \n",
              "number_of_reviews                      -0.050640               0.622844  \n",
              "reviews_per_month                      -0.099253               0.794347  \n",
              "calculated_host_listings_count          0.200949              -0.280567  \n",
              "availability_365                        1.000000              -0.008596  \n",
              "number_of_reviews_ltm                  -0.008596               1.000000  "
            ],
            "text/html": [
              "\n",
              "  <div id=\"df-58374418-0de8-47e2-9eb7-8aabdccdc8b1\">\n",
              "    <div class=\"colab-df-container\">\n",
              "      <div>\n",
              "<style scoped>\n",
              "    .dataframe tbody tr th:only-of-type {\n",
              "        vertical-align: middle;\n",
              "    }\n",
              "\n",
              "    .dataframe tbody tr th {\n",
              "        vertical-align: top;\n",
              "    }\n",
              "\n",
              "    .dataframe thead th {\n",
              "        text-align: right;\n",
              "    }\n",
              "</style>\n",
              "<table border=\"1\" class=\"dataframe\">\n",
              "  <thead>\n",
              "    <tr style=\"text-align: right;\">\n",
              "      <th></th>\n",
              "      <th>price</th>\n",
              "      <th>minimum_nights</th>\n",
              "      <th>number_of_reviews</th>\n",
              "      <th>reviews_per_month</th>\n",
              "      <th>calculated_host_listings_count</th>\n",
              "      <th>availability_365</th>\n",
              "      <th>number_of_reviews_ltm</th>\n",
              "    </tr>\n",
              "  </thead>\n",
              "  <tbody>\n",
              "    <tr>\n",
              "      <th>price</th>\n",
              "      <td>1.000000</td>\n",
              "      <td>0.143292</td>\n",
              "      <td>-0.145773</td>\n",
              "      <td>-0.247901</td>\n",
              "      <td>0.255785</td>\n",
              "      <td>-0.030826</td>\n",
              "      <td>-0.235881</td>\n",
              "    </tr>\n",
              "    <tr>\n",
              "      <th>minimum_nights</th>\n",
              "      <td>0.143292</td>\n",
              "      <td>1.000000</td>\n",
              "      <td>-0.368676</td>\n",
              "      <td>-0.441106</td>\n",
              "      <td>0.358689</td>\n",
              "      <td>0.265224</td>\n",
              "      <td>-0.475132</td>\n",
              "    </tr>\n",
              "    <tr>\n",
              "      <th>number_of_reviews</th>\n",
              "      <td>-0.145773</td>\n",
              "      <td>-0.368676</td>\n",
              "      <td>1.000000</td>\n",
              "      <td>0.696877</td>\n",
              "      <td>-0.312525</td>\n",
              "      <td>-0.050640</td>\n",
              "      <td>0.622844</td>\n",
              "    </tr>\n",
              "    <tr>\n",
              "      <th>reviews_per_month</th>\n",
              "      <td>-0.247901</td>\n",
              "      <td>-0.441106</td>\n",
              "      <td>0.696877</td>\n",
              "      <td>1.000000</td>\n",
              "      <td>-0.335499</td>\n",
              "      <td>-0.099253</td>\n",
              "      <td>0.794347</td>\n",
              "    </tr>\n",
              "    <tr>\n",
              "      <th>calculated_host_listings_count</th>\n",
              "      <td>0.255785</td>\n",
              "      <td>0.358689</td>\n",
              "      <td>-0.312525</td>\n",
              "      <td>-0.335499</td>\n",
              "      <td>1.000000</td>\n",
              "      <td>0.200949</td>\n",
              "      <td>-0.280567</td>\n",
              "    </tr>\n",
              "    <tr>\n",
              "      <th>availability_365</th>\n",
              "      <td>-0.030826</td>\n",
              "      <td>0.265224</td>\n",
              "      <td>-0.050640</td>\n",
              "      <td>-0.099253</td>\n",
              "      <td>0.200949</td>\n",
              "      <td>1.000000</td>\n",
              "      <td>-0.008596</td>\n",
              "    </tr>\n",
              "    <tr>\n",
              "      <th>number_of_reviews_ltm</th>\n",
              "      <td>-0.235881</td>\n",
              "      <td>-0.475132</td>\n",
              "      <td>0.622844</td>\n",
              "      <td>0.794347</td>\n",
              "      <td>-0.280567</td>\n",
              "      <td>-0.008596</td>\n",
              "      <td>1.000000</td>\n",
              "    </tr>\n",
              "  </tbody>\n",
              "</table>\n",
              "</div>\n",
              "      <button class=\"colab-df-convert\" onclick=\"convertToInteractive('df-58374418-0de8-47e2-9eb7-8aabdccdc8b1')\"\n",
              "              title=\"Convert this dataframe to an interactive table.\"\n",
              "              style=\"display:none;\">\n",
              "        \n",
              "  <svg xmlns=\"http://www.w3.org/2000/svg\" height=\"24px\"viewBox=\"0 0 24 24\"\n",
              "       width=\"24px\">\n",
              "    <path d=\"M0 0h24v24H0V0z\" fill=\"none\"/>\n",
              "    <path d=\"M18.56 5.44l.94 2.06.94-2.06 2.06-.94-2.06-.94-.94-2.06-.94 2.06-2.06.94zm-11 1L8.5 8.5l.94-2.06 2.06-.94-2.06-.94L8.5 2.5l-.94 2.06-2.06.94zm10 10l.94 2.06.94-2.06 2.06-.94-2.06-.94-.94-2.06-.94 2.06-2.06.94z\"/><path d=\"M17.41 7.96l-1.37-1.37c-.4-.4-.92-.59-1.43-.59-.52 0-1.04.2-1.43.59L10.3 9.45l-7.72 7.72c-.78.78-.78 2.05 0 2.83L4 21.41c.39.39.9.59 1.41.59.51 0 1.02-.2 1.41-.59l7.78-7.78 2.81-2.81c.8-.78.8-2.07 0-2.86zM5.41 20L4 18.59l7.72-7.72 1.47 1.35L5.41 20z\"/>\n",
              "  </svg>\n",
              "      </button>\n",
              "      \n",
              "  <style>\n",
              "    .colab-df-container {\n",
              "      display:flex;\n",
              "      flex-wrap:wrap;\n",
              "      gap: 12px;\n",
              "    }\n",
              "\n",
              "    .colab-df-convert {\n",
              "      background-color: #E8F0FE;\n",
              "      border: none;\n",
              "      border-radius: 50%;\n",
              "      cursor: pointer;\n",
              "      display: none;\n",
              "      fill: #1967D2;\n",
              "      height: 32px;\n",
              "      padding: 0 0 0 0;\n",
              "      width: 32px;\n",
              "    }\n",
              "\n",
              "    .colab-df-convert:hover {\n",
              "      background-color: #E2EBFA;\n",
              "      box-shadow: 0px 1px 2px rgba(60, 64, 67, 0.3), 0px 1px 3px 1px rgba(60, 64, 67, 0.15);\n",
              "      fill: #174EA6;\n",
              "    }\n",
              "\n",
              "    [theme=dark] .colab-df-convert {\n",
              "      background-color: #3B4455;\n",
              "      fill: #D2E3FC;\n",
              "    }\n",
              "\n",
              "    [theme=dark] .colab-df-convert:hover {\n",
              "      background-color: #434B5C;\n",
              "      box-shadow: 0px 1px 3px 1px rgba(0, 0, 0, 0.15);\n",
              "      filter: drop-shadow(0px 1px 2px rgba(0, 0, 0, 0.3));\n",
              "      fill: #FFFFFF;\n",
              "    }\n",
              "  </style>\n",
              "\n",
              "      <script>\n",
              "        const buttonEl =\n",
              "          document.querySelector('#df-58374418-0de8-47e2-9eb7-8aabdccdc8b1 button.colab-df-convert');\n",
              "        buttonEl.style.display =\n",
              "          google.colab.kernel.accessAllowed ? 'block' : 'none';\n",
              "\n",
              "        async function convertToInteractive(key) {\n",
              "          const element = document.querySelector('#df-58374418-0de8-47e2-9eb7-8aabdccdc8b1');\n",
              "          const dataTable =\n",
              "            await google.colab.kernel.invokeFunction('convertToInteractive',\n",
              "                                                     [key], {});\n",
              "          if (!dataTable) return;\n",
              "\n",
              "          const docLinkHtml = 'Like what you see? Visit the ' +\n",
              "            '<a target=\"_blank\" href=https://colab.research.google.com/notebooks/data_table.ipynb>data table notebook</a>'\n",
              "            + ' to learn more about interactive tables.';\n",
              "          element.innerHTML = '';\n",
              "          dataTable['output_type'] = 'display_data';\n",
              "          await google.colab.output.renderOutput(dataTable, element);\n",
              "          const docLink = document.createElement('div');\n",
              "          docLink.innerHTML = docLinkHtml;\n",
              "          element.appendChild(docLink);\n",
              "        }\n",
              "      </script>\n",
              "    </div>\n",
              "  </div>\n",
              "  "
            ]
          },
          "metadata": {}
        }
      ]
    },
    {
      "cell_type": "code",
      "source": [
        "sns.heatmap(correlação, cmap='RdBu', fmt='.2f', square=True, linewidths=1, linecolor='white', annot=True) "
      ],
      "metadata": {
        "colab": {
          "base_uri": "https://localhost:8080/",
          "height": 973
        },
        "id": "3r8JXF3C29js",
        "outputId": "dbfaa3e6-b978-4625-9aed-7f311205cd60"
      },
      "execution_count": null,
      "outputs": [
        {
          "output_type": "execute_result",
          "data": {
            "text/plain": [
              "<matplotlib.axes._subplots.AxesSubplot at 0x7f803598eb50>"
            ]
          },
          "metadata": {},
          "execution_count": 43
        },
        {
          "output_type": "display_data",
          "data": {
            "text/plain": [
              "<Figure size 1080x1080 with 2 Axes>"
            ],
            "image/png": "[encoded data removed]"
          },
          "metadata": {}
        }
      ]
    },
    {
      "cell_type": "markdown",
      "source": [
        "Em um heatmap, quanto mais próximo o coeficiente de correlação for de 1, ela será diretamente proporcional e as que se aproximam de -1, são inversamente proporcional. Portanto, nessa é visível a relação entre a quantidade avaliações por mês com a avaliação nos últimos meses, bem próximo de 1. É lógico, quanto maior a quantidade de avaliações por mês, maior será a quantidade de avaliações em um ano.\n",
        "\n",
        "Outra correlação notável é entre a `availability_365` e `minimum_nights`, ou seja, quanto maior o minímo de noites exigidas para a reserva, maior sua disponibilidade em 365 dias.\n",
        "\n",
        "Relacionando `number_of_reviews`(por mês, em doze meses e o total) com availabitity_365, testemunhamos um conflito entre esses objetos, já que o número de avaliações pode estar diretamente ligado a disponibilidade do imóvel. Ah, mas é óbvio já que os valores estão longe de +1, ou seja, quanto maior o número de avaliações, menor a disponibilidade porque passa confiabilidade para o cliente. Em contrapartida é que as avaliações podem ser positivas ou negativas, por isso os coeficientes de correlação não estão muito distantes de +1.\n",
        "\n",
        "\n",
        "\n",
        "\n"
      ],
      "metadata": {
        "id": "o3oynFJM53Xc"
      }
    },
    {
      "cell_type": "markdown",
      "metadata": {
        "id": "7b6RMWpuHKN-"
      },
      "source": [
        "### *Tipos de propriedades disponíveis no Airbnb*"
      ]
    },
    {
      "cell_type": "code",
      "source": [
        "print('Quantidade de tipos de imóveis:', len(df_clean['room_type'].unique()))\n",
        "print(df_clean['room_type'].value_counts())\n",
        "\n",
        "sns.catplot(x = \"room_type\", data = df, kind = \"count\", palette=\"Set2\")"
      ],
      "metadata": {
        "colab": {
          "base_uri": "https://localhost:8080/",
          "height": 480
        },
        "id": "Q4er8XPqLmT4",
        "outputId": "802f0196-aefd-4f15-bb2a-4cf0e5b71cf9"
      },
      "execution_count": null,
      "outputs": [
        {
          "output_type": "stream",
          "name": "stdout",
          "text": [
            "Quantidade de tipos de imóveis: 3\n",
            "Entire home/apt    386\n",
            "Private room       251\n",
            "Shared room          1\n",
            "Name: room_type, dtype: int64\n"
          ]
        },
        {
          "output_type": "execute_result",
          "data": {
            "text/plain": [
              "<seaborn.axisgrid.FacetGrid at 0x7f8035f80850>"
            ]
          },
          "metadata": {},
          "execution_count": 29
        },
        {
          "output_type": "display_data",
          "data": {
            "text/plain": [
              "<Figure size 360x360 with 1 Axes>"
            ],
            "image/png": "[encoded data removed]"
          },
          "metadata": {
            "needs_background": "light"
          }
        }
      ]
    },
    {
      "cell_type": "code",
      "source": [
        "df_clean.groupby(['room_type']).price.mean().sort_values(ascending = False)"
      ],
      "metadata": {
        "colab": {
          "base_uri": "https://localhost:8080/"
        },
        "id": "tyMXLdAV-SJk",
        "outputId": "04e654ad-84bf-4983-a98e-54dd0dae2b9a"
      },
      "execution_count": null,
      "outputs": [
        {
          "output_type": "execute_result",
          "data": {
            "text/plain": [
              "room_type\n",
              "Entire home/apt    196.183938\n",
              "Private room       105.454183\n",
              "Shared room         40.000000\n",
              "Name: price, dtype: float64"
            ]
          },
          "metadata": {},
          "execution_count": 31
        }
      ]
    },
    {
      "cell_type": "code",
      "source": [
        "(df_clean.room_type.value_counts()/ df_clean.shape[0])*100"
      ],
      "metadata": {
        "colab": {
          "base_uri": "https://localhost:8080/"
        },
        "id": "WaEbhdOIlo9J",
        "outputId": "8f8d882b-763d-44fb-b7b5-94adf4c835d8"
      },
      "execution_count": null,
      "outputs": [
        {
          "output_type": "execute_result",
          "data": {
            "text/plain": [
              "Entire home/apt    60.501567\n",
              "Private room       39.341693\n",
              "Shared room         0.156740\n",
              "Name: room_type, dtype: float64"
            ]
          },
          "metadata": {},
          "execution_count": 30
        }
      ]
    },
    {
      "cell_type": "markdown",
      "source": [
        "Como podemos ver, a maioria são casas ou apartamentos completos.\n",
        "Em segundo lugar, quartos privados e por último, quarto compartilhado. A fim de obter insights sobre os preços em relação aos bairros e o tipo de imóvel, será necessário plotar um heatmap relacionando-os.\n"
      ],
      "metadata": {
        "id": "DNsAgadpUJ3D"
      }
    },
    {
      "cell_type": "markdown",
      "source": [
        "# Principais características dos bairros de Cambridge\n",
        "Referência no site da [Prefeitura de Cambridge.](https://www.cambridgema.gov/CDD)\n",
        "\n",
        "---\n",
        "\n",
        "Características que podem justificar valores e tipos de propriedades disponíveis.\n",
        "\n",
        "---\n",
        "\n",
        "\n",
        "`Agassiz:` em 2021, o bairro de Agassiz foi renomeado como Baldwin. Contém instalações de moradias das universidades de Harvard e Lesley.\n",
        "\n",
        "\n",
        "`Área 2/MIT:` é quase inteiramente ocupada pelo campus do Massachusetts Institute of Technology (MIT).A grande maioria dos residentes do bairro são estudantes de graduação ou pós-graduação que vivem em dormitórios ou fraternidades do MIT.\n",
        "\n",
        "`Cambridgeport:` uma quantidade significativa de novos desenvolvimentos, incluindo novos usos de varejo, escritório/laboratório, residencial e institucional, tem ocorrido dentro da antiga área industrial ao longo da borda sudeste do bairro.\n",
        "\n",
        "`East Cambridge: `contém hotéis, edifícios de apartamentos de luxo, empresas de alta tecnologia, um shopping regional e o Museu de Ciência de Boston.\n",
        "\n",
        "`Mid-Cambridge:` Muitas instituições têm presença em Mid-Cambridge, incluindo Harvard University, Cambridge Hospital, Youville Hospital, Cambridge Public Library e Cambridge City Hall.\n",
        "\n",
        "` Neighborhood Nine: ` A Universidade de Harvard é uma presença no bairro, com instalações de moradia acadêmica e estudantil. Danehy Park, uma instalação de atletismo e recreação de 50 acres construída no local do antigo aterro sanitário da cidade, também está localizada no Bairro Nove.\n",
        "\n",
        "`North Cambridge:`é um bairro de mais de onze mil moradores que vivem em tipos de moradias que vão desde casas individuais e multifamiliares até grandes edifícios de apartamentos\n",
        "\n",
        "`Riverside:`Grande parte da moradia estudantil da Universidade de Harvard está localizada em Riverside. Riverside também abriga algumas das instalações acadêmicas de Harvard e a principal instalação acadêmica e administrativa da Cambridge College.\n",
        "\n",
        "`Cambridge Highlands:` Dividido em uma parte industrial e comercial, e uma parte residencial.\n",
        "\n",
        "` Strawberry Hill :`é o menor bairro por área terrestre em Cambridge. Strawberry Hill é principalmente residencial, e inclui casas multifamiliares e alguns edifícios de apartamentos.\n",
        "\n",
        "`The Port:`A maior parte do The Port tem caráter residencial.\n",
        "\n",
        "`Wellington Harrington :`é um pequeno bairro residencial de alta densidade.\n",
        "\n",
        "`West Cambridge: ` é um bairro residencial relativamente de baixa densidade.\n",
        "\n",
        "\n",
        "\n",
        "\n"
      ],
      "metadata": {
        "id": "k6JmKWdldqWc"
      }
    },
    {
      "cell_type": "code",
      "metadata": {
        "id": "MD_xa143JZpi",
        "colab": {
          "base_uri": "https://localhost:8080/"
        },
        "outputId": "1f81be63-a390-4944-b2b6-d029ce270038"
      },
      "source": [
        "# Bairros com maiores médias de preços em ordem decrescente\n",
        "df_clean.groupby(['neighbourhood']).price.mean().sort_values(ascending=False)[:15]"
      ],
      "execution_count": null,
      "outputs": [
        {
          "output_type": "execute_result",
          "data": {
            "text/plain": [
              "neighbourhood\n",
              "Area 2/MIT               197.954545\n",
              "East Cambridge           191.282353\n",
              "Mid-Cambridge            176.380435\n",
              "Cambridge Highlands      166.285714\n",
              "Agassiz                  163.535714\n",
              "West Cambridge           163.326087\n",
              "The Port                 157.440000\n",
              "Riverside                156.342105\n",
              "Neighborhood Nine        152.358974\n",
              "Strawberry Hill          148.307692\n",
              "Cambridgeport            144.827586\n",
              "North Cambridge          143.290323\n",
              "Wellington-Harrington    114.454545\n",
              "Name: price, dtype: float64"
            ]
          },
          "metadata": {},
          "execution_count": 35
        }
      ]
    },
    {
      "cell_type": "code",
      "source": [
        "sns.set(rc = {'figure.figsize':(15,15)})\n",
        "sns.heatmap(df_clean.groupby(['neighbourhood', 'room_type','price']).price.mean().unstack())"
      ],
      "metadata": {
        "colab": {
          "base_uri": "https://localhost:8080/",
          "height": 922
        },
        "id": "ltjDYc4u4t5q",
        "outputId": "ca4d2bdb-9cdc-4bb8-d376-43a6d5472aa3"
      },
      "execution_count": null,
      "outputs": [
        {
          "output_type": "execute_result",
          "data": {
            "text/plain": [
              "<matplotlib.axes._subplots.AxesSubplot at 0x7f8035f7d310>"
            ]
          },
          "metadata": {},
          "execution_count": 32
        },
        {
          "output_type": "display_data",
          "data": {
            "text/plain": [
              "<Figure size 1080x1080 with 2 Axes>"
            ],
            "image/png": "[encoded data removed]"
          },
          "metadata": {}
        }
      ]
    },
    {
      "cell_type": "markdown",
      "source": [
        "Nesse heatmap, é possível extrair alguns insights. Citando o bairro` Strawberry Hill` que é o menor bairro em área de Cambridge e por isso possui poucas unidades de hotelaria. Outro bairro é `Cambridge Highlands` que em sua maior parte territórial é para indústria e comércio, logo, há poucos alojamentos.\n",
        "\n",
        "A `Area2/MIT` por ser ocupada pelo campus do MIT, a maioria dos valores estão acima da média em relação a média dos tipos de alojamentos. O local é foco de viajantes do mundo inteiro, já que MIT é referência na área acadêmico e projetos. \n",
        "\n",
        "\n",
        "\n"
      ],
      "metadata": {
        "id": "4Nh__6mqEao2"
      }
    },
    {
      "cell_type": "code",
      "metadata": {
        "id": "UxVJqJ_3W59I",
        "colab": {
          "base_uri": "https://localhost:8080/",
          "height": 466
        },
        "outputId": "beca15d2-3060-4490-930e-a67cc9e38621"
      },
      "source": [
        "# plotar os imóveis pela latitude-longitude\n",
        "df_clean.plot(kind='scatter', x = 'longitude', y = 'latitude', alpha = 0.4,\n",
        "                   c = df_clean.price , s = 8, cmap = plt.get_cmap('jet'), figsize\n",
        "                    = (12,8));"
      ],
      "execution_count": null,
      "outputs": [
        {
          "output_type": "display_data",
          "data": {
            "text/plain": [
              "<Figure size 864x576 with 2 Axes>"
            ],
            "image/png": "[encoded data removed]"
          },
          "metadata": {}
        }
      ]
    },
    {
      "cell_type": "markdown",
      "metadata": {
        "id": "GkvAg623RjoR"
      },
      "source": [
        "## Conclusões\n"
      ]
    },
    {
      "cell_type": "markdown",
      "metadata": {
        "id": "rbZ3Hsy9Ypw8"
      },
      "source": [
        "Em virtude dos dados e análise feita ao longo desse notebook, vimos que as propriedades de Cambridge no Airbnb possui em sua maioria casas ou apartamentos completos para alugar. Ainda, há um volume grande de quartos privados.\n",
        "\n",
        "O maior preço médio é da Area2 que reside em sua maioria estudantes do MIT, o seu valor pode estar associado a sua localização e a ausência de propriedades locáveis.\n",
        "\n",
        "Por fim, Cambridge por ser uma cidade com grandes universidades, deve receber diariamente viajantes do mundo todo, para conhcer, participar de eventos, congressos e cursos nessas instituições. \n",
        "\n",
        "Com esses dados, um anfitrião consegue visualizar o quanto o seu imóvel estar acima ou abaixo da média, estimulando insights para modificações que venham beneficia-lo. Esses dados é útil para os hóspedes também, que conseguem visualizar os bairros com maiores médias de preços e o tipo de imóvel mais viável para sua jornada.\n",
        "\n",
        "A outras variáveis que não abordamos nessa análise exploratória mas agregam valor como estrutura e quantidade de cômodos.\n"
      ]
    }
  ]
}